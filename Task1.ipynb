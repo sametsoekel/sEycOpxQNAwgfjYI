{
 "cells": [
  {
   "cell_type": "markdown",
   "id": "1386d98c-f3ca-4e0e-b0cc-0af3103afade",
   "metadata": {},
   "source": [
    "Note : All work has been done using R language."
   ]
  },
  {
   "cell_type": "code",
   "execution_count": null,
   "id": "dabd56d5-755c-4145-b653-1404f0a08d34",
   "metadata": {},
   "outputs": [],
   "source": [
    "library(fst)\n",
    "library(data.table)\n",
    "library(tidyverse)\n",
    "library(lubridate)\n",
    "library(stringr)\n",
    "library(broom)\n",
    "library(zoo)\n",
    "options(repr.plot.width=15)\n",
    "options(scipen=999)"
   ]
  },
  {
   "cell_type": "code",
   "execution_count": 2,
   "id": "83f3ce8e-3e3c-450b-b2ed-2f62d455afab",
   "metadata": {},
   "outputs": [],
   "source": [
    "serialized_data_path <- 'data_serialized/'\n",
    "files <- list.files(serialized_data_path)"
   ]
  },
  {
   "cell_type": "markdown",
   "id": "308c19c2-4d3d-428b-8300-d818c733d562",
   "metadata": {},
   "source": [
    "## Reading data"
   ]
  },
  {
   "cell_type": "code",
   "execution_count": 3,
   "id": "f925f3ef-d0fa-42d3-bc28-aa0624a7b8dc",
   "metadata": {},
   "outputs": [],
   "source": [
    "for(i in files){\n",
    "    obj_name <- gsub('.fst','',i)\n",
    "    eval(parse(text=sprintf('%s <- read.fst(\"%s%s\",as.data.table=T)',obj_name,serialized_data_path,i)))\n",
    "}"
   ]
  },
  {
   "cell_type": "markdown",
   "id": "37550333-1f0a-47b0-93c6-ad613e17fca4",
   "metadata": {},
   "source": [
    "## Checking uniqueness for primary key ;"
   ]
  },
  {
   "cell_type": "code",
   "execution_count": 4,
   "id": "9b9e066f-d8c1-4fbf-b7fc-17fb092f3af3",
   "metadata": {},
   "outputs": [
    {
     "data": {
      "text/html": [
       "<table class=\"dataframe\">\n",
       "<caption>A data.table: 0 × 2</caption>\n",
       "<thead>\n",
       "\t<tr><th scope=col>pk</th><th scope=col>n</th></tr>\n",
       "\t<tr><th scope=col>&lt;int&gt;</th><th scope=col>&lt;int&gt;</th></tr>\n",
       "</thead>\n",
       "<tbody>\n",
       "</tbody>\n",
       "</table>\n"
      ],
      "text/latex": [
       "A data.table: 0 × 2\n",
       "\\begin{tabular}{ll}\n",
       " pk & n\\\\\n",
       " <int> & <int>\\\\\n",
       "\\hline\n",
       "\\end{tabular}\n"
      ],
      "text/markdown": [
       "\n",
       "A data.table: 0 × 2\n",
       "\n",
       "| pk &lt;int&gt; | n &lt;int&gt; |\n",
       "|---|---|\n",
       "\n"
      ],
      "text/plain": [
       "     pk n"
      ]
     },
     "metadata": {},
     "output_type": "display_data"
    },
    {
     "data": {
      "text/html": [
       "<table class=\"dataframe\">\n",
       "<caption>A data.table: 0 × 2</caption>\n",
       "<thead>\n",
       "\t<tr><th scope=col>pk</th><th scope=col>n</th></tr>\n",
       "\t<tr><th scope=col>&lt;int&gt;</th><th scope=col>&lt;int&gt;</th></tr>\n",
       "</thead>\n",
       "<tbody>\n",
       "</tbody>\n",
       "</table>\n"
      ],
      "text/latex": [
       "A data.table: 0 × 2\n",
       "\\begin{tabular}{ll}\n",
       " pk & n\\\\\n",
       " <int> & <int>\\\\\n",
       "\\hline\n",
       "\\end{tabular}\n"
      ],
      "text/markdown": [
       "\n",
       "A data.table: 0 × 2\n",
       "\n",
       "| pk &lt;int&gt; | n &lt;int&gt; |\n",
       "|---|---|\n",
       "\n"
      ],
      "text/plain": [
       "     pk n"
      ]
     },
     "metadata": {},
     "output_type": "display_data"
    },
    {
     "data": {
      "text/html": [
       "<table class=\"dataframe\">\n",
       "<caption>A data.table: 0 × 2</caption>\n",
       "<thead>\n",
       "\t<tr><th scope=col>pk</th><th scope=col>n</th></tr>\n",
       "\t<tr><th scope=col>&lt;int&gt;</th><th scope=col>&lt;int&gt;</th></tr>\n",
       "</thead>\n",
       "<tbody>\n",
       "</tbody>\n",
       "</table>\n"
      ],
      "text/latex": [
       "A data.table: 0 × 2\n",
       "\\begin{tabular}{ll}\n",
       " pk & n\\\\\n",
       " <int> & <int>\\\\\n",
       "\\hline\n",
       "\\end{tabular}\n"
      ],
      "text/markdown": [
       "\n",
       "A data.table: 0 × 2\n",
       "\n",
       "| pk &lt;int&gt; | n &lt;int&gt; |\n",
       "|---|---|\n",
       "\n"
      ],
      "text/plain": [
       "     pk n"
      ]
     },
     "metadata": {},
     "output_type": "display_data"
    }
   ],
   "source": [
    "economic_variables[,.(n=.N),by=pk][n > 1]\n",
    "\n",
    "economic_calendar[,.(n=.N),by=pk][n > 1]\n",
    "\n",
    "transactions[,.(n=.N),by=pk][n > 1]"
   ]
  },
  {
   "cell_type": "markdown",
   "id": "804ec3ef-c2a4-447c-8441-6bd67ca75b3b",
   "metadata": {},
   "source": [
    "I've grouped each table by `pk` and checked their frequency, looks okay."
   ]
  },
  {
   "cell_type": "markdown",
   "id": "32414f36-112f-4177-b037-b5d3e944abd9",
   "metadata": {},
   "source": [
    "## Manipulating Data"
   ]
  },
  {
   "cell_type": "markdown",
   "id": "0e2adfc7-555b-4824-b3dc-23858c220c16",
   "metadata": {},
   "source": [
    "### Well formatting `ga_datehour`"
   ]
  },
  {
   "cell_type": "code",
   "execution_count": 5,
   "id": "62e15892-d6b7-4476-b60a-8652af4e193e",
   "metadata": {},
   "outputs": [
    {
     "data": {
      "text/html": [
       "<table class=\"dataframe\">\n",
       "<caption>A data.table: 5 × 6</caption>\n",
       "<thead>\n",
       "\t<tr><th scope=col>pk</th><th scope=col>ga_transactionid</th><th scope=col>ga_datehour</th><th scope=col>ga_products</th><th scope=col>ga_channels</th><th scope=col>ga_itemquantity</th></tr>\n",
       "\t<tr><th scope=col>&lt;int&gt;</th><th scope=col>&lt;chr&gt;</th><th scope=col>&lt;dttm&gt;</th><th scope=col>&lt;chr&gt;</th><th scope=col>&lt;chr&gt;</th><th scope=col>&lt;int&gt;</th></tr>\n",
       "</thead>\n",
       "<tbody>\n",
       "\t<tr><td>146288072</td><td>2_50414543</td><td>2020-08-29</td><td>Product D</td><td>Facebook      </td><td>1</td></tr>\n",
       "\t<tr><td>146288071</td><td>2_50414542</td><td>2020-08-29</td><td>Product D</td><td>Organic search</td><td>1</td></tr>\n",
       "\t<tr><td>146287503</td><td>2_50413935</td><td>2020-08-29</td><td>Product D</td><td>Organic search</td><td>1</td></tr>\n",
       "\t<tr><td>146287504</td><td>2_50413936</td><td>2020-08-29</td><td>Product D</td><td>Organic search</td><td>1</td></tr>\n",
       "\t<tr><td>146296436</td><td>3_65496155</td><td>2020-08-29</td><td>Product E</td><td>Google Ads    </td><td>1</td></tr>\n",
       "</tbody>\n",
       "</table>\n"
      ],
      "text/latex": [
       "A data.table: 5 × 6\n",
       "\\begin{tabular}{llllll}\n",
       " pk & ga\\_transactionid & ga\\_datehour & ga\\_products & ga\\_channels & ga\\_itemquantity\\\\\n",
       " <int> & <chr> & <dttm> & <chr> & <chr> & <int>\\\\\n",
       "\\hline\n",
       "\t 146288072 & 2\\_50414543 & 2020-08-29 & Product D & Facebook       & 1\\\\\n",
       "\t 146288071 & 2\\_50414542 & 2020-08-29 & Product D & Organic search & 1\\\\\n",
       "\t 146287503 & 2\\_50413935 & 2020-08-29 & Product D & Organic search & 1\\\\\n",
       "\t 146287504 & 2\\_50413936 & 2020-08-29 & Product D & Organic search & 1\\\\\n",
       "\t 146296436 & 3\\_65496155 & 2020-08-29 & Product E & Google Ads     & 1\\\\\n",
       "\\end{tabular}\n"
      ],
      "text/markdown": [
       "\n",
       "A data.table: 5 × 6\n",
       "\n",
       "| pk &lt;int&gt; | ga_transactionid &lt;chr&gt; | ga_datehour &lt;dttm&gt; | ga_products &lt;chr&gt; | ga_channels &lt;chr&gt; | ga_itemquantity &lt;int&gt; |\n",
       "|---|---|---|---|---|---|\n",
       "| 146288072 | 2_50414543 | 2020-08-29 | Product D | Facebook       | 1 |\n",
       "| 146288071 | 2_50414542 | 2020-08-29 | Product D | Organic search | 1 |\n",
       "| 146287503 | 2_50413935 | 2020-08-29 | Product D | Organic search | 1 |\n",
       "| 146287504 | 2_50413936 | 2020-08-29 | Product D | Organic search | 1 |\n",
       "| 146296436 | 3_65496155 | 2020-08-29 | Product E | Google Ads     | 1 |\n",
       "\n"
      ],
      "text/plain": [
       "  pk        ga_transactionid ga_datehour ga_products ga_channels   \n",
       "1 146288072 2_50414543       2020-08-29  Product D   Facebook      \n",
       "2 146288071 2_50414542       2020-08-29  Product D   Organic search\n",
       "3 146287503 2_50413935       2020-08-29  Product D   Organic search\n",
       "4 146287504 2_50413936       2020-08-29  Product D   Organic search\n",
       "5 146296436 3_65496155       2020-08-29  Product E   Google Ads    \n",
       "  ga_itemquantity\n",
       "1 1              \n",
       "2 1              \n",
       "3 1              \n",
       "4 1              \n",
       "5 1              "
      ]
     },
     "metadata": {},
     "output_type": "display_data"
    }
   ],
   "source": [
    "transactions[,ga_datehour := ymd_h(ga_datehour)]\n",
    "name_template <- colnames(transactions[0])\n",
    "transactions %>% head(5)"
   ]
  },
  {
   "cell_type": "markdown",
   "id": "089c1f30-b140-43f9-9f80-73c1df3f502a",
   "metadata": {},
   "source": [
    "### Replacing empty string values ('') with `NA`"
   ]
  },
  {
   "cell_type": "code",
   "execution_count": 6,
   "id": "9e1e6c75-bd53-4083-8be4-38ff7f90210c",
   "metadata": {},
   "outputs": [
    {
     "data": {
      "text/html": [
       "<table class=\"dataframe\">\n",
       "<caption>A matrix: 2 × 6 of type dbl</caption>\n",
       "<thead>\n",
       "\t<tr><th></th><th scope=col>used</th><th scope=col>(Mb)</th><th scope=col>gc trigger</th><th scope=col>(Mb)</th><th scope=col>max used</th><th scope=col>(Mb)</th></tr>\n",
       "</thead>\n",
       "<tbody>\n",
       "\t<tr><th scope=row>Ncells</th><td> 20059338</td><td>1071.3</td><td> 43139458</td><td>2303.9</td><td> 20248403</td><td>1081.4</td></tr>\n",
       "\t<tr><th scope=row>Vcells</th><td>152529142</td><td>1163.8</td><td>464792048</td><td>3546.1</td><td>382773376</td><td>2920.4</td></tr>\n",
       "</tbody>\n",
       "</table>\n"
      ],
      "text/latex": [
       "A matrix: 2 × 6 of type dbl\n",
       "\\begin{tabular}{r|llllll}\n",
       "  & used & (Mb) & gc trigger & (Mb) & max used & (Mb)\\\\\n",
       "\\hline\n",
       "\tNcells &  20059338 & 1071.3 &  43139458 & 2303.9 &  20248403 & 1081.4\\\\\n",
       "\tVcells & 152529142 & 1163.8 & 464792048 & 3546.1 & 382773376 & 2920.4\\\\\n",
       "\\end{tabular}\n"
      ],
      "text/markdown": [
       "\n",
       "A matrix: 2 × 6 of type dbl\n",
       "\n",
       "| <!--/--> | used | (Mb) | gc trigger | (Mb) | max used | (Mb) |\n",
       "|---|---|---|---|---|---|---|\n",
       "| Ncells |  20059338 | 1071.3 |  43139458 | 2303.9 |  20248403 | 1081.4 |\n",
       "| Vcells | 152529142 | 1163.8 | 464792048 | 3546.1 | 382773376 | 2920.4 |\n",
       "\n"
      ],
      "text/plain": [
       "       used      (Mb)   gc trigger (Mb)   max used  (Mb)  \n",
       "Ncells  20059338 1071.3  43139458  2303.9  20248403 1081.4\n",
       "Vcells 152529142 1163.8 464792048  3546.1 382773376 2920.4"
      ]
     },
     "metadata": {},
     "output_type": "display_data"
    },
    {
     "data": {
      "text/html": [
       "<table class=\"dataframe\">\n",
       "<caption>A data.table: 5 × 6</caption>\n",
       "<thead>\n",
       "\t<tr><th scope=col>pk</th><th scope=col>ga_transactionid</th><th scope=col>ga_datehour</th><th scope=col>ga_products</th><th scope=col>ga_channels</th><th scope=col>ga_itemquantity</th></tr>\n",
       "\t<tr><th scope=col>&lt;int&gt;</th><th scope=col>&lt;chr&gt;</th><th scope=col>&lt;dttm&gt;</th><th scope=col>&lt;chr&gt;</th><th scope=col>&lt;chr&gt;</th><th scope=col>&lt;int&gt;</th></tr>\n",
       "</thead>\n",
       "<tbody>\n",
       "\t<tr><td>146288072</td><td>2_50414543</td><td>2020-08-29</td><td>Product D</td><td>Facebook      </td><td>1</td></tr>\n",
       "\t<tr><td>146288071</td><td>2_50414542</td><td>2020-08-29</td><td>Product D</td><td>Organic search</td><td>1</td></tr>\n",
       "\t<tr><td>146287503</td><td>2_50413935</td><td>2020-08-29</td><td>Product D</td><td>Organic search</td><td>1</td></tr>\n",
       "\t<tr><td>146287504</td><td>2_50413936</td><td>2020-08-29</td><td>Product D</td><td>Organic search</td><td>1</td></tr>\n",
       "\t<tr><td>146296436</td><td>3_65496155</td><td>2020-08-29</td><td>Product E</td><td>Google Ads    </td><td>1</td></tr>\n",
       "</tbody>\n",
       "</table>\n"
      ],
      "text/latex": [
       "A data.table: 5 × 6\n",
       "\\begin{tabular}{llllll}\n",
       " pk & ga\\_transactionid & ga\\_datehour & ga\\_products & ga\\_channels & ga\\_itemquantity\\\\\n",
       " <int> & <chr> & <dttm> & <chr> & <chr> & <int>\\\\\n",
       "\\hline\n",
       "\t 146288072 & 2\\_50414543 & 2020-08-29 & Product D & Facebook       & 1\\\\\n",
       "\t 146288071 & 2\\_50414542 & 2020-08-29 & Product D & Organic search & 1\\\\\n",
       "\t 146287503 & 2\\_50413935 & 2020-08-29 & Product D & Organic search & 1\\\\\n",
       "\t 146287504 & 2\\_50413936 & 2020-08-29 & Product D & Organic search & 1\\\\\n",
       "\t 146296436 & 3\\_65496155 & 2020-08-29 & Product E & Google Ads     & 1\\\\\n",
       "\\end{tabular}\n"
      ],
      "text/markdown": [
       "\n",
       "A data.table: 5 × 6\n",
       "\n",
       "| pk &lt;int&gt; | ga_transactionid &lt;chr&gt; | ga_datehour &lt;dttm&gt; | ga_products &lt;chr&gt; | ga_channels &lt;chr&gt; | ga_itemquantity &lt;int&gt; |\n",
       "|---|---|---|---|---|---|\n",
       "| 146288072 | 2_50414543 | 2020-08-29 | Product D | Facebook       | 1 |\n",
       "| 146288071 | 2_50414542 | 2020-08-29 | Product D | Organic search | 1 |\n",
       "| 146287503 | 2_50413935 | 2020-08-29 | Product D | Organic search | 1 |\n",
       "| 146287504 | 2_50413936 | 2020-08-29 | Product D | Organic search | 1 |\n",
       "| 146296436 | 3_65496155 | 2020-08-29 | Product E | Google Ads     | 1 |\n",
       "\n"
      ],
      "text/plain": [
       "  pk        ga_transactionid ga_datehour ga_products ga_channels   \n",
       "1 146288072 2_50414543       2020-08-29  Product D   Facebook      \n",
       "2 146288071 2_50414542       2020-08-29  Product D   Organic search\n",
       "3 146287503 2_50413935       2020-08-29  Product D   Organic search\n",
       "4 146287504 2_50413936       2020-08-29  Product D   Organic search\n",
       "5 146296436 3_65496155       2020-08-29  Product E   Google Ads    \n",
       "  ga_itemquantity\n",
       "1 1              \n",
       "2 1              \n",
       "3 1              \n",
       "4 1              \n",
       "5 1              "
      ]
     },
     "metadata": {},
     "output_type": "display_data"
    }
   ],
   "source": [
    "transactionsa <- transactions[,lapply(.SD,function(x) ifelse(x=='',NA,x)),.SD=is.character]\n",
    "transactionsb <- transactions[,.SD,.SDcols=!is.character]\n",
    "transactions <- cbind(transactionsb,transactionsa)\n",
    "                                          \n",
    "rm(transactionsa)\n",
    "rm(transactionsb)\n",
    "gc()\n",
    "                                          \n",
    "setDT(transactions)\n",
    "                                              \n",
    "transactions <- transactions[,.SD,.SDcols=name_template]\n",
    "transactions %>% head(5)"
   ]
  },
  {
   "cell_type": "markdown",
   "id": "06285fc1-3ce5-44ae-9a3e-59d91de68e05",
   "metadata": {},
   "source": [
    "### Parsing `ga_datehour` to work easier"
   ]
  },
  {
   "cell_type": "code",
   "execution_count": 7,
   "id": "a88b5411-31ef-43f7-b6b9-3dd12a3588e1",
   "metadata": {},
   "outputs": [
    {
     "data": {
      "text/html": [
       "<table class=\"dataframe\">\n",
       "<caption>A data.table: 5 × 11</caption>\n",
       "<thead>\n",
       "\t<tr><th scope=col>pk</th><th scope=col>ga_transactionid</th><th scope=col>ga_datehour</th><th scope=col>ga_products</th><th scope=col>ga_channels</th><th scope=col>ga_itemquantity</th><th scope=col>year</th><th scope=col>month</th><th scope=col>day</th><th scope=col>hour</th><th scope=col>week_day</th></tr>\n",
       "\t<tr><th scope=col>&lt;int&gt;</th><th scope=col>&lt;chr&gt;</th><th scope=col>&lt;dttm&gt;</th><th scope=col>&lt;chr&gt;</th><th scope=col>&lt;chr&gt;</th><th scope=col>&lt;int&gt;</th><th scope=col>&lt;dbl&gt;</th><th scope=col>&lt;dbl&gt;</th><th scope=col>&lt;int&gt;</th><th scope=col>&lt;int&gt;</th><th scope=col>&lt;chr&gt;</th></tr>\n",
       "</thead>\n",
       "<tbody>\n",
       "\t<tr><td>146288072</td><td>2_50414543</td><td>2020-08-29</td><td>Product D</td><td>Facebook      </td><td>1</td><td>2020</td><td>8</td><td>29</td><td>0</td><td>Cts</td></tr>\n",
       "\t<tr><td>146288071</td><td>2_50414542</td><td>2020-08-29</td><td>Product D</td><td>Organic search</td><td>1</td><td>2020</td><td>8</td><td>29</td><td>0</td><td>Cts</td></tr>\n",
       "\t<tr><td>146287503</td><td>2_50413935</td><td>2020-08-29</td><td>Product D</td><td>Organic search</td><td>1</td><td>2020</td><td>8</td><td>29</td><td>0</td><td>Cts</td></tr>\n",
       "\t<tr><td>146287504</td><td>2_50413936</td><td>2020-08-29</td><td>Product D</td><td>Organic search</td><td>1</td><td>2020</td><td>8</td><td>29</td><td>0</td><td>Cts</td></tr>\n",
       "\t<tr><td>146296436</td><td>3_65496155</td><td>2020-08-29</td><td>Product E</td><td>Google Ads    </td><td>1</td><td>2020</td><td>8</td><td>29</td><td>0</td><td>Cts</td></tr>\n",
       "</tbody>\n",
       "</table>\n"
      ],
      "text/latex": [
       "A data.table: 5 × 11\n",
       "\\begin{tabular}{lllllllllll}\n",
       " pk & ga\\_transactionid & ga\\_datehour & ga\\_products & ga\\_channels & ga\\_itemquantity & year & month & day & hour & week\\_day\\\\\n",
       " <int> & <chr> & <dttm> & <chr> & <chr> & <int> & <dbl> & <dbl> & <int> & <int> & <chr>\\\\\n",
       "\\hline\n",
       "\t 146288072 & 2\\_50414543 & 2020-08-29 & Product D & Facebook       & 1 & 2020 & 8 & 29 & 0 & Cts\\\\\n",
       "\t 146288071 & 2\\_50414542 & 2020-08-29 & Product D & Organic search & 1 & 2020 & 8 & 29 & 0 & Cts\\\\\n",
       "\t 146287503 & 2\\_50413935 & 2020-08-29 & Product D & Organic search & 1 & 2020 & 8 & 29 & 0 & Cts\\\\\n",
       "\t 146287504 & 2\\_50413936 & 2020-08-29 & Product D & Organic search & 1 & 2020 & 8 & 29 & 0 & Cts\\\\\n",
       "\t 146296436 & 3\\_65496155 & 2020-08-29 & Product E & Google Ads     & 1 & 2020 & 8 & 29 & 0 & Cts\\\\\n",
       "\\end{tabular}\n"
      ],
      "text/markdown": [
       "\n",
       "A data.table: 5 × 11\n",
       "\n",
       "| pk &lt;int&gt; | ga_transactionid &lt;chr&gt; | ga_datehour &lt;dttm&gt; | ga_products &lt;chr&gt; | ga_channels &lt;chr&gt; | ga_itemquantity &lt;int&gt; | year &lt;dbl&gt; | month &lt;dbl&gt; | day &lt;int&gt; | hour &lt;int&gt; | week_day &lt;chr&gt; |\n",
       "|---|---|---|---|---|---|---|---|---|---|---|\n",
       "| 146288072 | 2_50414543 | 2020-08-29 | Product D | Facebook       | 1 | 2020 | 8 | 29 | 0 | Cts |\n",
       "| 146288071 | 2_50414542 | 2020-08-29 | Product D | Organic search | 1 | 2020 | 8 | 29 | 0 | Cts |\n",
       "| 146287503 | 2_50413935 | 2020-08-29 | Product D | Organic search | 1 | 2020 | 8 | 29 | 0 | Cts |\n",
       "| 146287504 | 2_50413936 | 2020-08-29 | Product D | Organic search | 1 | 2020 | 8 | 29 | 0 | Cts |\n",
       "| 146296436 | 3_65496155 | 2020-08-29 | Product E | Google Ads     | 1 | 2020 | 8 | 29 | 0 | Cts |\n",
       "\n"
      ],
      "text/plain": [
       "  pk        ga_transactionid ga_datehour ga_products ga_channels   \n",
       "1 146288072 2_50414543       2020-08-29  Product D   Facebook      \n",
       "2 146288071 2_50414542       2020-08-29  Product D   Organic search\n",
       "3 146287503 2_50413935       2020-08-29  Product D   Organic search\n",
       "4 146287504 2_50413936       2020-08-29  Product D   Organic search\n",
       "5 146296436 3_65496155       2020-08-29  Product E   Google Ads    \n",
       "  ga_itemquantity year month day hour week_day\n",
       "1 1               2020 8     29  0    Cts     \n",
       "2 1               2020 8     29  0    Cts     \n",
       "3 1               2020 8     29  0    Cts     \n",
       "4 1               2020 8     29  0    Cts     \n",
       "5 1               2020 8     29  0    Cts     "
      ]
     },
     "metadata": {},
     "output_type": "display_data"
    }
   ],
   "source": [
    "transactions[,year := year(ga_datehour)]\n",
    "transactions[,month := month(ga_datehour)]\n",
    "transactions[,day := day(ga_datehour)]\n",
    "transactions[,hour := hour(ga_datehour)]\n",
    "transactions[,week_day := as.character(wday(ga_datehour,label = T))]\n",
    "\n",
    "transactions %>% head(5)"
   ]
  },
  {
   "cell_type": "code",
   "execution_count": 8,
   "id": "75a52e5d-5e1e-4abd-8e9d-6e4dab45e201",
   "metadata": {},
   "outputs": [
    {
     "data": {
      "text/plain": [
       ".SD\n",
       "       1        2        3        4 \n",
       "20824680     7120        8        1 "
      ]
     },
     "metadata": {},
     "output_type": "display_data"
    },
    {
     "data": {
      "text/html": [
       "<table class=\"dataframe\">\n",
       "<caption>A data.table: 1 × 1</caption>\n",
       "<thead>\n",
       "\t<tr><th scope=col>NOT_1</th></tr>\n",
       "\t<tr><th scope=col>&lt;dbl&gt;</th></tr>\n",
       "</thead>\n",
       "<tbody>\n",
       "\t<tr><td>0.000342217</td></tr>\n",
       "</tbody>\n",
       "</table>\n"
      ],
      "text/latex": [
       "A data.table: 1 × 1\n",
       "\\begin{tabular}{l}\n",
       " NOT\\_1\\\\\n",
       " <dbl>\\\\\n",
       "\\hline\n",
       "\t 0.000342217\\\\\n",
       "\\end{tabular}\n"
      ],
      "text/markdown": [
       "\n",
       "A data.table: 1 × 1\n",
       "\n",
       "| NOT_1 &lt;dbl&gt; |\n",
       "|---|\n",
       "| 0.000342217 |\n",
       "\n"
      ],
      "text/plain": [
       "  NOT_1      \n",
       "1 0.000342217"
      ]
     },
     "metadata": {},
     "output_type": "display_data"
    }
   ],
   "source": [
    "quantity_check <- transactions[,table(.SD),.SDcols='ga_itemquantity']\n",
    "\n",
    "quantity_check\n",
    "\n",
    "quantity_check <- data.frame(quantity_check)\n",
    "\n",
    "setnames(quantity_check,'.SD',new = 'quantity')\n",
    "setDT(quantity_check)\n",
    "\n",
    "quantity_check[,.(NOT_1 = sum(.SD[quantity!=1])/sum(.SD)),.SDcols='Freq']"
   ]
  },
  {
   "cell_type": "markdown",
   "id": "4b5df611-62d3-49d8-bdb0-e5f91ed9074e",
   "metadata": {},
   "source": [
    "### As seen above, %0.003 of observations of `ga_itemquantity` recorded is different from 1, It's hard to do some analysis on this kind of unbalanced distrubiton. The best and fastest solution is keeping only 1."
   ]
  },
  {
   "cell_type": "markdown",
   "id": "7cdb1aaa-268d-4ac1-abe3-6e06d93188a2",
   "metadata": {},
   "source": [
    "-----------"
   ]
  },
  {
   "cell_type": "markdown",
   "id": "c325ded1-beb1-4e1b-bf44-26b011f8cf3b",
   "metadata": {},
   "source": [
    "### Calculating of daily and hourly visitor numbers, number of leads and creating a summary table"
   ]
  },
  {
   "cell_type": "code",
   "execution_count": 9,
   "id": "081250c4-86be-45ed-bfe7-b1c0979ff7a5",
   "metadata": {},
   "outputs": [
    {
     "data": {
      "text/html": [
       "<table class=\"dataframe\">\n",
       "<caption>A data.table: 5 × 9</caption>\n",
       "<thead>\n",
       "\t<tr><th scope=col>year</th><th scope=col>month</th><th scope=col>day</th><th scope=col>hour</th><th scope=col>week_day</th><th scope=col>ga_channels</th><th scope=col>ga_products</th><th scope=col>visitor_num</th><th scope=col>year_day</th></tr>\n",
       "\t<tr><th scope=col>&lt;dbl&gt;</th><th scope=col>&lt;dbl&gt;</th><th scope=col>&lt;int&gt;</th><th scope=col>&lt;int&gt;</th><th scope=col>&lt;chr&gt;</th><th scope=col>&lt;chr&gt;</th><th scope=col>&lt;chr&gt;</th><th scope=col>&lt;int&gt;</th><th scope=col>&lt;dbl&gt;</th></tr>\n",
       "</thead>\n",
       "<tbody>\n",
       "\t<tr><td>2020</td><td>8</td><td>29</td><td>0</td><td>Cts</td><td>Facebook      </td><td>Product D</td><td> 55</td><td>242</td></tr>\n",
       "\t<tr><td>2020</td><td>8</td><td>29</td><td>0</td><td>Cts</td><td>Organic search</td><td>Product D</td><td>184</td><td>242</td></tr>\n",
       "\t<tr><td>2020</td><td>8</td><td>29</td><td>0</td><td>Cts</td><td>Google Ads    </td><td>Product E</td><td>  6</td><td>242</td></tr>\n",
       "\t<tr><td>2020</td><td>8</td><td>29</td><td>0</td><td>Cts</td><td>Google Ads    </td><td>Product D</td><td>895</td><td>242</td></tr>\n",
       "\t<tr><td>2020</td><td>8</td><td>29</td><td>0</td><td>Cts</td><td>Organic search</td><td>Product E</td><td> 27</td><td>242</td></tr>\n",
       "</tbody>\n",
       "</table>\n"
      ],
      "text/latex": [
       "A data.table: 5 × 9\n",
       "\\begin{tabular}{lllllllll}\n",
       " year & month & day & hour & week\\_day & ga\\_channels & ga\\_products & visitor\\_num & year\\_day\\\\\n",
       " <dbl> & <dbl> & <int> & <int> & <chr> & <chr> & <chr> & <int> & <dbl>\\\\\n",
       "\\hline\n",
       "\t 2020 & 8 & 29 & 0 & Cts & Facebook       & Product D &  55 & 242\\\\\n",
       "\t 2020 & 8 & 29 & 0 & Cts & Organic search & Product D & 184 & 242\\\\\n",
       "\t 2020 & 8 & 29 & 0 & Cts & Google Ads     & Product E &   6 & 242\\\\\n",
       "\t 2020 & 8 & 29 & 0 & Cts & Google Ads     & Product D & 895 & 242\\\\\n",
       "\t 2020 & 8 & 29 & 0 & Cts & Organic search & Product E &  27 & 242\\\\\n",
       "\\end{tabular}\n"
      ],
      "text/markdown": [
       "\n",
       "A data.table: 5 × 9\n",
       "\n",
       "| year &lt;dbl&gt; | month &lt;dbl&gt; | day &lt;int&gt; | hour &lt;int&gt; | week_day &lt;chr&gt; | ga_channels &lt;chr&gt; | ga_products &lt;chr&gt; | visitor_num &lt;int&gt; | year_day &lt;dbl&gt; |\n",
       "|---|---|---|---|---|---|---|---|---|\n",
       "| 2020 | 8 | 29 | 0 | Cts | Facebook       | Product D |  55 | 242 |\n",
       "| 2020 | 8 | 29 | 0 | Cts | Organic search | Product D | 184 | 242 |\n",
       "| 2020 | 8 | 29 | 0 | Cts | Google Ads     | Product E |   6 | 242 |\n",
       "| 2020 | 8 | 29 | 0 | Cts | Google Ads     | Product D | 895 | 242 |\n",
       "| 2020 | 8 | 29 | 0 | Cts | Organic search | Product E |  27 | 242 |\n",
       "\n"
      ],
      "text/plain": [
       "  year month day hour week_day ga_channels    ga_products visitor_num year_day\n",
       "1 2020 8     29  0    Cts      Facebook       Product D    55         242     \n",
       "2 2020 8     29  0    Cts      Organic search Product D   184         242     \n",
       "3 2020 8     29  0    Cts      Google Ads     Product E     6         242     \n",
       "4 2020 8     29  0    Cts      Google Ads     Product D   895         242     \n",
       "5 2020 8     29  0    Cts      Organic search Product E    27         242     "
      ]
     },
     "metadata": {},
     "output_type": "display_data"
    }
   ],
   "source": [
    "visitors <- transactions[ga_itemquantity == 1,\n",
    "                         .(visitor_num = .N),\n",
    "                         by=c('year','month','day','hour','week_day','ga_channels','ga_products')]\n",
    "\n",
    "visitors[,year_day := yday(as.Date(ISOdate(year = year,month=month,day=day)))]\n",
    "\n",
    "visitors %>% head(5)"
   ]
  },
  {
   "cell_type": "code",
   "execution_count": 10,
   "id": "c32f48cb-cda0-47d9-b2ce-0604ebf35de5",
   "metadata": {},
   "outputs": [],
   "source": [
    "rm(transactions)"
   ]
  },
  {
   "cell_type": "code",
   "execution_count": 11,
   "id": "9a91cc54-0ab3-4b16-b5d6-39f258891b30",
   "metadata": {},
   "outputs": [
    {
     "data": {
      "text/html": [
       "<table class=\"dataframe\">\n",
       "<caption>A matrix: 2 × 6 of type dbl</caption>\n",
       "<thead>\n",
       "\t<tr><th></th><th scope=col>used</th><th scope=col>(Mb)</th><th scope=col>gc trigger</th><th scope=col>(Mb)</th><th scope=col>max used</th><th scope=col>(Mb)</th></tr>\n",
       "</thead>\n",
       "<tbody>\n",
       "\t<tr><th scope=row>Ncells</th><td> 1168438</td><td>62.5</td><td> 34511567</td><td>1843.2</td><td> 20297413</td><td>1084.0</td></tr>\n",
       "\t<tr><th scope=row>Vcells</th><td>12475389</td><td>95.2</td><td>448725400</td><td>3423.6</td><td>473020589</td><td>3608.9</td></tr>\n",
       "</tbody>\n",
       "</table>\n"
      ],
      "text/latex": [
       "A matrix: 2 × 6 of type dbl\n",
       "\\begin{tabular}{r|llllll}\n",
       "  & used & (Mb) & gc trigger & (Mb) & max used & (Mb)\\\\\n",
       "\\hline\n",
       "\tNcells &  1168438 & 62.5 &  34511567 & 1843.2 &  20297413 & 1084.0\\\\\n",
       "\tVcells & 12475389 & 95.2 & 448725400 & 3423.6 & 473020589 & 3608.9\\\\\n",
       "\\end{tabular}\n"
      ],
      "text/markdown": [
       "\n",
       "A matrix: 2 × 6 of type dbl\n",
       "\n",
       "| <!--/--> | used | (Mb) | gc trigger | (Mb) | max used | (Mb) |\n",
       "|---|---|---|---|---|---|---|\n",
       "| Ncells |  1168438 | 62.5 |  34511567 | 1843.2 |  20297413 | 1084.0 |\n",
       "| Vcells | 12475389 | 95.2 | 448725400 | 3423.6 | 473020589 | 3608.9 |\n",
       "\n"
      ],
      "text/plain": [
       "       used     (Mb) gc trigger (Mb)   max used  (Mb)  \n",
       "Ncells  1168438 62.5  34511567  1843.2  20297413 1084.0\n",
       "Vcells 12475389 95.2 448725400  3423.6 473020589 3608.9"
      ]
     },
     "metadata": {},
     "output_type": "display_data"
    }
   ],
   "source": [
    "gc()"
   ]
  },
  {
   "cell_type": "code",
   "execution_count": 12,
   "id": "4204a3ca-57d6-4e17-b772-213096e9677b",
   "metadata": {},
   "outputs": [],
   "source": [
    "visitors[,pure_date := as.Date(ISOdate(year=year,month = month,day = day)),]"
   ]
  },
  {
   "cell_type": "markdown",
   "id": "85a64fd0-75a7-4852-926e-d54a75d2ed96",
   "metadata": {},
   "source": [
    "### Subsetting data where `economic variables` end `economic calendar` are avaliable"
   ]
  },
  {
   "cell_type": "code",
   "execution_count": 13,
   "id": "690d521e-37ab-4d19-80f6-19cf86cb409a",
   "metadata": {},
   "outputs": [],
   "source": [
    "visitors_sub <- visitors[pure_date>=min(economic_variables[,date]) & pure_date<=max(economic_variables[,date])]"
   ]
  },
  {
   "cell_type": "code",
   "execution_count": 14,
   "id": "4691e578-b55d-489c-9bba-a3130fc06c32",
   "metadata": {},
   "outputs": [
    {
     "data": {
      "text/html": [
       "245124"
      ],
      "text/latex": [
       "245124"
      ],
      "text/markdown": [
       "245124"
      ],
      "text/plain": [
       "[1] 245124"
      ]
     },
     "metadata": {},
     "output_type": "display_data"
    }
   ],
   "source": [
    "visitors %>% nrow"
   ]
  },
  {
   "cell_type": "markdown",
   "id": "236eeeb3-3731-4976-8e2f-a816f854015f",
   "metadata": {},
   "source": [
    "### Joining economic variables with visitors table"
   ]
  },
  {
   "cell_type": "code",
   "execution_count": 15,
   "id": "131b495a-eaf9-423a-aaee-f3c75aa013e3",
   "metadata": {},
   "outputs": [],
   "source": [
    "visitors_sub %>% \n",
    "rename(date = pure_date) %>% \n",
    "left_join(economic_variables %>%\n",
    "          mutate(date=as.Date(date)) %>% \n",
    "          select(-pk),by=c('date','hour')) -> joint_table"
   ]
  },
  {
   "cell_type": "code",
   "execution_count": 16,
   "id": "5c9bda1f-7520-42ba-8541-44130e2fe408",
   "metadata": {},
   "outputs": [
    {
     "name": "stderr",
     "output_type": "stream",
     "text": [
      "Warning message in `[.data.table`(joint_table, , `:=`(record_num, 1:.N), by = \"date\"):\n",
      "“Invalid .internal.selfref detected and fixed by taking a (shallow) copy of the data.table so that := can add this new column by reference. At an earlier point, this data.table has been copied by R (or was created manually using structure() or similar). Avoid names<- and attr<- which in R currently (and oddly) may copy the whole data.table. Use set* syntax instead to avoid copying: ?set, ?setnames and ?setattr. If this message doesn't help, please report your use case to the data.table issue tracker so the root cause can be fixed or this message improved.”\n"
     ]
    }
   ],
   "source": [
    "joint_table[,record_num := 1:.N,by='date']"
   ]
  },
  {
   "cell_type": "code",
   "execution_count": 17,
   "id": "43e965b3-8447-4371-aa17-f613145323f7",
   "metadata": {},
   "outputs": [],
   "source": [
    "joint_table[record_num==1,is_empty_first_day := is.na(bist100)]"
   ]
  },
  {
   "cell_type": "markdown",
   "id": "02c245e8-caa7-4f90-877e-9a93d2564e46",
   "metadata": {},
   "source": [
    "### To fully fill all columns I am rolling values between two hours if there is no record for that hour."
   ]
  },
  {
   "cell_type": "code",
   "execution_count": 18,
   "id": "f6ec77cf-b710-44e5-9eb7-6abf38fbc8d0",
   "metadata": {},
   "outputs": [],
   "source": [
    "columns_to_initialize <- colnames(economic_variables[,-c('pk','hour')])\n",
    "\n",
    "na_days <- joint_table[is_empty_first_day==TRUE,'date']\n",
    "\n",
    "needed_cols <- economic_variables[,..columns_to_initialize]\n",
    "needed_cols[,n := 1:.N,by=date]\n",
    "needed_cols[,date := c(date[1],lag(date)[-1])]\n",
    "needed_cols <- needed_cols[,.SD[which.max(n)],by=date]\n",
    "needed_cols[,n := NULL]\n",
    "imputation <- left_join(na_days,needed_cols %>% mutate(date=as.Date(date)),by='date')\n",
    "                                   \n",
    "joint_table[is_empty_first_day==TRUE,(columns_to_initialize) := imputation,]"
   ]
  },
  {
   "cell_type": "code",
   "execution_count": 19,
   "id": "06d53658-205d-459d-8e06-3bbae9f54be0",
   "metadata": {},
   "outputs": [],
   "source": [
    "joint_table[,bist100 := na.locf(bist100)]\n",
    "joint_table[,usdtry := na.locf(usdtry)]\n",
    "joint_table[,eurtry := na.locf(eurtry)]\n",
    "joint_table[,eurusd := na.locf(eurusd)]\n",
    "joint_table[,faiz := na.locf(faiz)]\n",
    "joint_table[,xau := na.locf(xau)]\n",
    "joint_table[,brent := na.locf(brent)]"
   ]
  },
  {
   "cell_type": "code",
   "execution_count": 20,
   "id": "b58b61d7-0306-4767-bab4-b2fb4ad27f7d",
   "metadata": {},
   "outputs": [],
   "source": [
    "joint_table[,record_num := NULL]\n",
    "joint_table[,is_empty_first_day := NULL]"
   ]
  },
  {
   "cell_type": "code",
   "execution_count": 21,
   "id": "70f80ff8-c46d-44a5-a5d8-77c6e7b1196c",
   "metadata": {},
   "outputs": [
    {
     "data": {
      "text/html": [
       "<table class=\"dataframe\">\n",
       "<caption>A data.table: 6 × 18</caption>\n",
       "<thead>\n",
       "\t<tr><th scope=col>year</th><th scope=col>month</th><th scope=col>day</th><th scope=col>hour</th><th scope=col>week_day</th><th scope=col>ga_channels</th><th scope=col>ga_products</th><th scope=col>visitor_num</th><th scope=col>year_day</th><th scope=col>date</th><th scope=col>bist100</th><th scope=col>usdtry</th><th scope=col>eurtry</th><th scope=col>eurusd</th><th scope=col>faiz</th><th scope=col>xau</th><th scope=col>brent</th><th scope=col>bky</th></tr>\n",
       "\t<tr><th scope=col>&lt;dbl&gt;</th><th scope=col>&lt;dbl&gt;</th><th scope=col>&lt;int&gt;</th><th scope=col>&lt;int&gt;</th><th scope=col>&lt;chr&gt;</th><th scope=col>&lt;chr&gt;</th><th scope=col>&lt;chr&gt;</th><th scope=col>&lt;int&gt;</th><th scope=col>&lt;dbl&gt;</th><th scope=col>&lt;date&gt;</th><th scope=col>&lt;dbl&gt;</th><th scope=col>&lt;dbl&gt;</th><th scope=col>&lt;dbl&gt;</th><th scope=col>&lt;dbl&gt;</th><th scope=col>&lt;dbl&gt;</th><th scope=col>&lt;dbl&gt;</th><th scope=col>&lt;dbl&gt;</th><th scope=col>&lt;dbl&gt;</th></tr>\n",
       "</thead>\n",
       "<tbody>\n",
       "\t<tr><td>2021</td><td>4</td><td>28</td><td>0</td><td>Çrş</td><td>Google Ads</td><td>Product A</td><td> 274</td><td>118</td><td>2021-04-28</td><td>1388.59</td><td>8.2159</td><td>9.9379</td><td>1.2096</td><td>18.08</td><td>1773.86</td><td>67.33</td><td>NA</td></tr>\n",
       "\t<tr><td>2021</td><td>4</td><td>28</td><td>0</td><td>Çrş</td><td>Direct    </td><td>Product A</td><td>  12</td><td>118</td><td>2021-04-28</td><td>1388.59</td><td>8.2159</td><td>9.9379</td><td>1.2096</td><td>18.08</td><td>1773.86</td><td>67.33</td><td>NA</td></tr>\n",
       "\t<tr><td>2021</td><td>4</td><td>28</td><td>0</td><td>Çrş</td><td>Facebook  </td><td>Product A</td><td> 200</td><td>118</td><td>2021-04-28</td><td>1388.59</td><td>8.2159</td><td>9.9379</td><td>1.2096</td><td>18.08</td><td>1773.86</td><td>67.33</td><td>NA</td></tr>\n",
       "\t<tr><td>2021</td><td>4</td><td>28</td><td>0</td><td>Çrş</td><td>NA        </td><td>Product A</td><td>  33</td><td>118</td><td>2021-04-28</td><td>1388.59</td><td>8.2159</td><td>9.9379</td><td>1.2096</td><td>18.08</td><td>1773.86</td><td>67.33</td><td>NA</td></tr>\n",
       "\t<tr><td>2021</td><td>4</td><td>28</td><td>0</td><td>Çrş</td><td>CRM       </td><td>Product A</td><td>  65</td><td>118</td><td>2021-04-28</td><td>1388.59</td><td>8.2159</td><td>9.9379</td><td>1.2096</td><td>18.08</td><td>1773.86</td><td>67.33</td><td>NA</td></tr>\n",
       "\t<tr><td>2021</td><td>4</td><td>28</td><td>0</td><td>Çrş</td><td>Google Ads</td><td>Product D</td><td>1212</td><td>118</td><td>2021-04-28</td><td>1388.59</td><td>8.2159</td><td>9.9379</td><td>1.2096</td><td>18.08</td><td>1773.86</td><td>67.33</td><td>NA</td></tr>\n",
       "</tbody>\n",
       "</table>\n"
      ],
      "text/latex": [
       "A data.table: 6 × 18\n",
       "\\begin{tabular}{llllllllllllllllll}\n",
       " year & month & day & hour & week\\_day & ga\\_channels & ga\\_products & visitor\\_num & year\\_day & date & bist100 & usdtry & eurtry & eurusd & faiz & xau & brent & bky\\\\\n",
       " <dbl> & <dbl> & <int> & <int> & <chr> & <chr> & <chr> & <int> & <dbl> & <date> & <dbl> & <dbl> & <dbl> & <dbl> & <dbl> & <dbl> & <dbl> & <dbl>\\\\\n",
       "\\hline\n",
       "\t 2021 & 4 & 28 & 0 & Çrş & Google Ads & Product A &  274 & 118 & 2021-04-28 & 1388.59 & 8.2159 & 9.9379 & 1.2096 & 18.08 & 1773.86 & 67.33 & NA\\\\\n",
       "\t 2021 & 4 & 28 & 0 & Çrş & Direct     & Product A &   12 & 118 & 2021-04-28 & 1388.59 & 8.2159 & 9.9379 & 1.2096 & 18.08 & 1773.86 & 67.33 & NA\\\\\n",
       "\t 2021 & 4 & 28 & 0 & Çrş & Facebook   & Product A &  200 & 118 & 2021-04-28 & 1388.59 & 8.2159 & 9.9379 & 1.2096 & 18.08 & 1773.86 & 67.33 & NA\\\\\n",
       "\t 2021 & 4 & 28 & 0 & Çrş & NA         & Product A &   33 & 118 & 2021-04-28 & 1388.59 & 8.2159 & 9.9379 & 1.2096 & 18.08 & 1773.86 & 67.33 & NA\\\\\n",
       "\t 2021 & 4 & 28 & 0 & Çrş & CRM        & Product A &   65 & 118 & 2021-04-28 & 1388.59 & 8.2159 & 9.9379 & 1.2096 & 18.08 & 1773.86 & 67.33 & NA\\\\\n",
       "\t 2021 & 4 & 28 & 0 & Çrş & Google Ads & Product D & 1212 & 118 & 2021-04-28 & 1388.59 & 8.2159 & 9.9379 & 1.2096 & 18.08 & 1773.86 & 67.33 & NA\\\\\n",
       "\\end{tabular}\n"
      ],
      "text/markdown": [
       "\n",
       "A data.table: 6 × 18\n",
       "\n",
       "| year &lt;dbl&gt; | month &lt;dbl&gt; | day &lt;int&gt; | hour &lt;int&gt; | week_day &lt;chr&gt; | ga_channels &lt;chr&gt; | ga_products &lt;chr&gt; | visitor_num &lt;int&gt; | year_day &lt;dbl&gt; | date &lt;date&gt; | bist100 &lt;dbl&gt; | usdtry &lt;dbl&gt; | eurtry &lt;dbl&gt; | eurusd &lt;dbl&gt; | faiz &lt;dbl&gt; | xau &lt;dbl&gt; | brent &lt;dbl&gt; | bky &lt;dbl&gt; |\n",
       "|---|---|---|---|---|---|---|---|---|---|---|---|---|---|---|---|---|---|\n",
       "| 2021 | 4 | 28 | 0 | Çrş | Google Ads | Product A |  274 | 118 | 2021-04-28 | 1388.59 | 8.2159 | 9.9379 | 1.2096 | 18.08 | 1773.86 | 67.33 | NA |\n",
       "| 2021 | 4 | 28 | 0 | Çrş | Direct     | Product A |   12 | 118 | 2021-04-28 | 1388.59 | 8.2159 | 9.9379 | 1.2096 | 18.08 | 1773.86 | 67.33 | NA |\n",
       "| 2021 | 4 | 28 | 0 | Çrş | Facebook   | Product A |  200 | 118 | 2021-04-28 | 1388.59 | 8.2159 | 9.9379 | 1.2096 | 18.08 | 1773.86 | 67.33 | NA |\n",
       "| 2021 | 4 | 28 | 0 | Çrş | NA         | Product A |   33 | 118 | 2021-04-28 | 1388.59 | 8.2159 | 9.9379 | 1.2096 | 18.08 | 1773.86 | 67.33 | NA |\n",
       "| 2021 | 4 | 28 | 0 | Çrş | CRM        | Product A |   65 | 118 | 2021-04-28 | 1388.59 | 8.2159 | 9.9379 | 1.2096 | 18.08 | 1773.86 | 67.33 | NA |\n",
       "| 2021 | 4 | 28 | 0 | Çrş | Google Ads | Product D | 1212 | 118 | 2021-04-28 | 1388.59 | 8.2159 | 9.9379 | 1.2096 | 18.08 | 1773.86 | 67.33 | NA |\n",
       "\n"
      ],
      "text/plain": [
       "  year month day hour week_day ga_channels ga_products visitor_num year_day\n",
       "1 2021 4     28  0    Çrş      Google Ads  Product A    274        118     \n",
       "2 2021 4     28  0    Çrş      Direct      Product A     12        118     \n",
       "3 2021 4     28  0    Çrş      Facebook    Product A    200        118     \n",
       "4 2021 4     28  0    Çrş      NA          Product A     33        118     \n",
       "5 2021 4     28  0    Çrş      CRM         Product A     65        118     \n",
       "6 2021 4     28  0    Çrş      Google Ads  Product D   1212        118     \n",
       "  date       bist100 usdtry eurtry eurusd faiz  xau     brent bky\n",
       "1 2021-04-28 1388.59 8.2159 9.9379 1.2096 18.08 1773.86 67.33 NA \n",
       "2 2021-04-28 1388.59 8.2159 9.9379 1.2096 18.08 1773.86 67.33 NA \n",
       "3 2021-04-28 1388.59 8.2159 9.9379 1.2096 18.08 1773.86 67.33 NA \n",
       "4 2021-04-28 1388.59 8.2159 9.9379 1.2096 18.08 1773.86 67.33 NA \n",
       "5 2021-04-28 1388.59 8.2159 9.9379 1.2096 18.08 1773.86 67.33 NA \n",
       "6 2021-04-28 1388.59 8.2159 9.9379 1.2096 18.08 1773.86 67.33 NA "
      ]
     },
     "metadata": {},
     "output_type": "display_data"
    }
   ],
   "source": [
    "joint_table %>% head"
   ]
  },
  {
   "cell_type": "code",
   "execution_count": 22,
   "id": "95c2809a-303d-4458-9d88-78d2dd63dd09",
   "metadata": {},
   "outputs": [
    {
     "data": {
      "text/html": [
       "<table class=\"dataframe\">\n",
       "<caption>A matrix: 2 × 6 of type dbl</caption>\n",
       "<thead>\n",
       "\t<tr><th></th><th scope=col>used</th><th scope=col>(Mb)</th><th scope=col>gc trigger</th><th scope=col>(Mb)</th><th scope=col>max used</th><th scope=col>(Mb)</th></tr>\n",
       "</thead>\n",
       "<tbody>\n",
       "\t<tr><th scope=row>Ncells</th><td> 1213865</td><td> 64.9</td><td> 27609254</td><td>1474.5</td><td> 20297413</td><td>1084.0</td></tr>\n",
       "\t<tr><th scope=row>Vcells</th><td>15666879</td><td>119.6</td><td>358980320</td><td>2738.9</td><td>473020589</td><td>3608.9</td></tr>\n",
       "</tbody>\n",
       "</table>\n"
      ],
      "text/latex": [
       "A matrix: 2 × 6 of type dbl\n",
       "\\begin{tabular}{r|llllll}\n",
       "  & used & (Mb) & gc trigger & (Mb) & max used & (Mb)\\\\\n",
       "\\hline\n",
       "\tNcells &  1213865 &  64.9 &  27609254 & 1474.5 &  20297413 & 1084.0\\\\\n",
       "\tVcells & 15666879 & 119.6 & 358980320 & 2738.9 & 473020589 & 3608.9\\\\\n",
       "\\end{tabular}\n"
      ],
      "text/markdown": [
       "\n",
       "A matrix: 2 × 6 of type dbl\n",
       "\n",
       "| <!--/--> | used | (Mb) | gc trigger | (Mb) | max used | (Mb) |\n",
       "|---|---|---|---|---|---|---|\n",
       "| Ncells |  1213865 |  64.9 |  27609254 | 1474.5 |  20297413 | 1084.0 |\n",
       "| Vcells | 15666879 | 119.6 | 358980320 | 2738.9 | 473020589 | 3608.9 |\n",
       "\n"
      ],
      "text/plain": [
       "       used     (Mb)  gc trigger (Mb)   max used  (Mb)  \n",
       "Ncells  1213865  64.9  27609254  1474.5  20297413 1084.0\n",
       "Vcells 15666879 119.6 358980320  2738.9 473020589 3608.9"
      ]
     },
     "metadata": {},
     "output_type": "display_data"
    }
   ],
   "source": [
    "name_template <- colnames(economic_calendar)\n",
    "\n",
    "economic_calendara <- economic_calendar[,lapply(.SD,function(x) ifelse(x=='',NA,x)),.SDcols=is.character]\n",
    "economic_calendarb <- economic_calendar[,.SD,.SDcols=!is.character]\n",
    "                                                \n",
    "economic_calendar <- cbind(economic_calendara,economic_calendarb)\n",
    "\n",
    "setDT(economic_calendar)\n",
    "\n",
    "economic_calendar <- economic_calendar[,.SD,.SDcols=name_template]\n",
    "                                                \n",
    "rm(economic_calendara)\n",
    "rm(economic_calendarb)\n",
    "gc()"
   ]
  },
  {
   "cell_type": "markdown",
   "id": "219f8d0b-2022-48c0-ae3b-13deefff4ad2",
   "metadata": {},
   "source": [
    "### Classification of events (Percentage, Nominal Increase & Decrease, Other)\n",
    "\n",
    "I wrote a simple function to separate them"
   ]
  },
  {
   "cell_type": "code",
   "execution_count": 23,
   "id": "747c9603-8db4-479b-a765-ad2b2163c673",
   "metadata": {},
   "outputs": [],
   "source": [
    "get_type <- function(x){\n",
    "    if(ifelse(is.na(str_detect(x,pattern = '%\\\\d')),FALSE,str_detect(x,pattern = '%\\\\d'))){\n",
    "        return('percentage')\n",
    "    }else if(ifelse(is.na(str_detect(x,pattern = '\\\\d(MLN)')),FALSE,str_detect(x,pattern = '\\\\d(MLN)')) | \n",
    "             ifelse(is.na(str_detect(x,pattern = '\\\\d(MLR)')),FALSE,str_detect(x,pattern = '\\\\d(MLR)')) | \n",
    "             ifelse(is.na(str_detect(x,pattern = '\\\\d(T)')),FALSE,str_detect(x,pattern = '\\\\d(T)'))){\n",
    "        return('nominal')\n",
    "    }else{\n",
    "        return('other')\n",
    "    }\n",
    "}"
   ]
  },
  {
   "cell_type": "code",
   "execution_count": 24,
   "id": "3231edbc-767c-4fc6-9fa0-dad940a6895c",
   "metadata": {},
   "outputs": [],
   "source": [
    "economic_calendar[,type := apply(data.table(previous),1,get_type)]"
   ]
  },
  {
   "cell_type": "code",
   "execution_count": 25,
   "id": "c9a35dac-6f91-4586-997c-27adfaf9d5d1",
   "metadata": {},
   "outputs": [
    {
     "data": {
      "text/html": [
       "<table class=\"dataframe\">\n",
       "<caption>A data.table: 3 × 10</caption>\n",
       "<thead>\n",
       "\t<tr><th scope=col>pk</th><th scope=col>date</th><th scope=col>time</th><th scope=col>country</th><th scope=col>indicator</th><th scope=col>priority</th><th scope=col>explained</th><th scope=col>expectation</th><th scope=col>previous</th><th scope=col>type</th></tr>\n",
       "\t<tr><th scope=col>&lt;int&gt;</th><th scope=col>&lt;date&gt;</th><th scope=col>&lt;chr&gt;</th><th scope=col>&lt;chr&gt;</th><th scope=col>&lt;chr&gt;</th><th scope=col>&lt;int&gt;</th><th scope=col>&lt;chr&gt;</th><th scope=col>&lt;chr&gt;</th><th scope=col>&lt;chr&gt;</th><th scope=col>&lt;chr&gt;</th></tr>\n",
       "</thead>\n",
       "<tbody>\n",
       "\t<tr><td>1</td><td>2021-04-26</td><td>23:00</td><td>ABD</td><td>AISI Çelik Üretimi(Ton)     </td><td>1</td><td>NA</td><td>NA</td><td>1,770MLN</td><td>nominal   </td></tr>\n",
       "\t<tr><td>2</td><td>2021-04-26</td><td>23:00</td><td>ABD</td><td>AISI Çelik Üretimi(Haftalık)</td><td>1</td><td>NA</td><td>NA</td><td>%0,5    </td><td>percentage</td></tr>\n",
       "\t<tr><td>3</td><td>2021-04-26</td><td>23:00</td><td>ABD</td><td>AISI Çelik Üretimi(Yıllık)  </td><td>1</td><td>NA</td><td>NA</td><td>%42,7   </td><td>percentage</td></tr>\n",
       "</tbody>\n",
       "</table>\n"
      ],
      "text/latex": [
       "A data.table: 3 × 10\n",
       "\\begin{tabular}{llllllllll}\n",
       " pk & date & time & country & indicator & priority & explained & expectation & previous & type\\\\\n",
       " <int> & <date> & <chr> & <chr> & <chr> & <int> & <chr> & <chr> & <chr> & <chr>\\\\\n",
       "\\hline\n",
       "\t 1 & 2021-04-26 & 23:00 & ABD & AISI Çelik Üretimi(Ton)      & 1 & NA & NA & 1,770MLN & nominal   \\\\\n",
       "\t 2 & 2021-04-26 & 23:00 & ABD & AISI Çelik Üretimi(Haftalık) & 1 & NA & NA & \\%0,5     & percentage\\\\\n",
       "\t 3 & 2021-04-26 & 23:00 & ABD & AISI Çelik Üretimi(Yıllık)   & 1 & NA & NA & \\%42,7    & percentage\\\\\n",
       "\\end{tabular}\n"
      ],
      "text/markdown": [
       "\n",
       "A data.table: 3 × 10\n",
       "\n",
       "| pk &lt;int&gt; | date &lt;date&gt; | time &lt;chr&gt; | country &lt;chr&gt; | indicator &lt;chr&gt; | priority &lt;int&gt; | explained &lt;chr&gt; | expectation &lt;chr&gt; | previous &lt;chr&gt; | type &lt;chr&gt; |\n",
       "|---|---|---|---|---|---|---|---|---|---|\n",
       "| 1 | 2021-04-26 | 23:00 | ABD | AISI Çelik Üretimi(Ton)      | 1 | NA | NA | 1,770MLN | nominal    |\n",
       "| 2 | 2021-04-26 | 23:00 | ABD | AISI Çelik Üretimi(Haftalık) | 1 | NA | NA | %0,5     | percentage |\n",
       "| 3 | 2021-04-26 | 23:00 | ABD | AISI Çelik Üretimi(Yıllık)   | 1 | NA | NA | %42,7    | percentage |\n",
       "\n"
      ],
      "text/plain": [
       "  pk date       time  country indicator                    priority explained\n",
       "1 1  2021-04-26 23:00 ABD     AISI Çelik Üretimi(Ton)      1        NA       \n",
       "2 2  2021-04-26 23:00 ABD     AISI Çelik Üretimi(Haftalık) 1        NA       \n",
       "3 3  2021-04-26 23:00 ABD     AISI Çelik Üretimi(Yıllık)   1        NA       \n",
       "  expectation previous type      \n",
       "1 NA          1,770MLN nominal   \n",
       "2 NA          %0,5     percentage\n",
       "3 NA          %42,7    percentage"
      ]
     },
     "metadata": {},
     "output_type": "display_data"
    }
   ],
   "source": [
    "economic_calendar %>% head(3)"
   ]
  },
  {
   "cell_type": "markdown",
   "id": "2d4b8b48-3e5c-4697-b3cc-854c06d8f75d",
   "metadata": {},
   "source": [
    "### Well formatting `previous` column"
   ]
  },
  {
   "cell_type": "code",
   "execution_count": 26,
   "id": "b79c74cb-c6a8-481a-ab79-5cbb24f220b3",
   "metadata": {},
   "outputs": [],
   "source": [
    "economic_calendar[type == 'percentage',cleaned_prev := gsub(',','\\\\.',gsub('%','',previous))]"
   ]
  },
  {
   "cell_type": "code",
   "execution_count": 27,
   "id": "38fd500a-1d51-4419-97f0-dbc89e0d60d5",
   "metadata": {},
   "outputs": [],
   "source": [
    "economic_calendar[type == 'nominal',cleaned_prev := gsub('([A-Z])','',previous)]\n",
    "economic_calendar[type == 'nominal',coeff := ifelse(grepl('MLN',previous),1e6,\n",
    "                                                   ifelse(grepl('MLR',previous),1e9,\n",
    "                                                         ifelse(grepl('T',previous),1e12,NA)))]\n",
    "\n",
    "economic_calendar[type == 'nominal',cleaned_prev := gsub(',','\\\\.',cleaned_prev)]"
   ]
  },
  {
   "cell_type": "code",
   "execution_count": 28,
   "id": "db0f693b-c5f2-40e6-a9fd-04d4723492ba",
   "metadata": {},
   "outputs": [
    {
     "data": {
      "text/html": [
       "<table class=\"dataframe\">\n",
       "<caption>A data.table: 3 × 12</caption>\n",
       "<thead>\n",
       "\t<tr><th scope=col>pk</th><th scope=col>date</th><th scope=col>time</th><th scope=col>country</th><th scope=col>indicator</th><th scope=col>priority</th><th scope=col>explained</th><th scope=col>expectation</th><th scope=col>previous</th><th scope=col>type</th><th scope=col>cleaned_prev</th><th scope=col>coeff</th></tr>\n",
       "\t<tr><th scope=col>&lt;int&gt;</th><th scope=col>&lt;date&gt;</th><th scope=col>&lt;chr&gt;</th><th scope=col>&lt;chr&gt;</th><th scope=col>&lt;chr&gt;</th><th scope=col>&lt;int&gt;</th><th scope=col>&lt;chr&gt;</th><th scope=col>&lt;chr&gt;</th><th scope=col>&lt;chr&gt;</th><th scope=col>&lt;chr&gt;</th><th scope=col>&lt;chr&gt;</th><th scope=col>&lt;dbl&gt;</th></tr>\n",
       "</thead>\n",
       "<tbody>\n",
       "\t<tr><td>1</td><td>2021-04-26</td><td>23:00</td><td>ABD</td><td>AISI Çelik Üretimi(Ton)     </td><td>1</td><td>NA</td><td>NA</td><td>1,770MLN</td><td>nominal   </td><td>1.770</td><td>1000000</td></tr>\n",
       "\t<tr><td>2</td><td>2021-04-26</td><td>23:00</td><td>ABD</td><td>AISI Çelik Üretimi(Haftalık)</td><td>1</td><td>NA</td><td>NA</td><td>%0,5    </td><td>percentage</td><td>0.5  </td><td>     NA</td></tr>\n",
       "\t<tr><td>3</td><td>2021-04-26</td><td>23:00</td><td>ABD</td><td>AISI Çelik Üretimi(Yıllık)  </td><td>1</td><td>NA</td><td>NA</td><td>%42,7   </td><td>percentage</td><td>42.7 </td><td>     NA</td></tr>\n",
       "</tbody>\n",
       "</table>\n"
      ],
      "text/latex": [
       "A data.table: 3 × 12\n",
       "\\begin{tabular}{llllllllllll}\n",
       " pk & date & time & country & indicator & priority & explained & expectation & previous & type & cleaned\\_prev & coeff\\\\\n",
       " <int> & <date> & <chr> & <chr> & <chr> & <int> & <chr> & <chr> & <chr> & <chr> & <chr> & <dbl>\\\\\n",
       "\\hline\n",
       "\t 1 & 2021-04-26 & 23:00 & ABD & AISI Çelik Üretimi(Ton)      & 1 & NA & NA & 1,770MLN & nominal    & 1.770 & 1000000\\\\\n",
       "\t 2 & 2021-04-26 & 23:00 & ABD & AISI Çelik Üretimi(Haftalık) & 1 & NA & NA & \\%0,5     & percentage & 0.5   &      NA\\\\\n",
       "\t 3 & 2021-04-26 & 23:00 & ABD & AISI Çelik Üretimi(Yıllık)   & 1 & NA & NA & \\%42,7    & percentage & 42.7  &      NA\\\\\n",
       "\\end{tabular}\n"
      ],
      "text/markdown": [
       "\n",
       "A data.table: 3 × 12\n",
       "\n",
       "| pk &lt;int&gt; | date &lt;date&gt; | time &lt;chr&gt; | country &lt;chr&gt; | indicator &lt;chr&gt; | priority &lt;int&gt; | explained &lt;chr&gt; | expectation &lt;chr&gt; | previous &lt;chr&gt; | type &lt;chr&gt; | cleaned_prev &lt;chr&gt; | coeff &lt;dbl&gt; |\n",
       "|---|---|---|---|---|---|---|---|---|---|---|---|\n",
       "| 1 | 2021-04-26 | 23:00 | ABD | AISI Çelik Üretimi(Ton)      | 1 | NA | NA | 1,770MLN | nominal    | 1.770 | 1000000 |\n",
       "| 2 | 2021-04-26 | 23:00 | ABD | AISI Çelik Üretimi(Haftalık) | 1 | NA | NA | %0,5     | percentage | 0.5   |      NA |\n",
       "| 3 | 2021-04-26 | 23:00 | ABD | AISI Çelik Üretimi(Yıllık)   | 1 | NA | NA | %42,7    | percentage | 42.7  |      NA |\n",
       "\n"
      ],
      "text/plain": [
       "  pk date       time  country indicator                    priority explained\n",
       "1 1  2021-04-26 23:00 ABD     AISI Çelik Üretimi(Ton)      1        NA       \n",
       "2 2  2021-04-26 23:00 ABD     AISI Çelik Üretimi(Haftalık) 1        NA       \n",
       "3 3  2021-04-26 23:00 ABD     AISI Çelik Üretimi(Yıllık)   1        NA       \n",
       "  expectation previous type       cleaned_prev coeff  \n",
       "1 NA          1,770MLN nominal    1.770        1000000\n",
       "2 NA          %0,5     percentage 0.5               NA\n",
       "3 NA          %42,7    percentage 42.7              NA"
      ]
     },
     "metadata": {},
     "output_type": "display_data"
    }
   ],
   "source": [
    "economic_calendar %>% head(3)"
   ]
  },
  {
   "cell_type": "code",
   "execution_count": 29,
   "id": "46c8e79d-65d4-473e-8808-ffeaa0f60f34",
   "metadata": {},
   "outputs": [
    {
     "name": "stderr",
     "output_type": "stream",
     "text": [
      "Warning message in ifelse(type == \"nominal\", as.numeric(cleaned_prev) * coeff, as.numeric(cleaned_prev)):\n",
      "“NAs introduced by coercion”\n",
      "Warning message in ifelse(type == \"nominal\", as.numeric(cleaned_prev) * coeff, as.numeric(cleaned_prev)):\n",
      "“NAs introduced by coercion”\n"
     ]
    }
   ],
   "source": [
    "economic_calendar[type != 'other',cleaned_prev2 := ifelse(type=='nominal',\n",
    "                                                          as.numeric(cleaned_prev)*coeff,\n",
    "                                                          as.numeric(cleaned_prev))]"
   ]
  },
  {
   "cell_type": "code",
   "execution_count": 30,
   "id": "a3937369-a362-4e05-8dfb-15f8d3b54494",
   "metadata": {},
   "outputs": [],
   "source": [
    "economic_calendar2 <- economic_calendar[type != 'other']"
   ]
  },
  {
   "cell_type": "code",
   "execution_count": 31,
   "id": "b5befa6c-b6e2-458e-8677-de1cc33ff3d5",
   "metadata": {},
   "outputs": [],
   "source": [
    "economic_calendar2[,time := as.numeric(strtrim(time,width = 2))]"
   ]
  },
  {
   "cell_type": "code",
   "execution_count": 32,
   "id": "c17207b3-ef9e-4976-bf17-8c897c08375e",
   "metadata": {},
   "outputs": [
    {
     "data": {
      "text/html": [
       "<table class=\"dataframe\">\n",
       "<caption>A data.table: 5 × 4</caption>\n",
       "<thead>\n",
       "\t<tr><th scope=col>date</th><th scope=col>time</th><th scope=col>effect</th><th scope=col>country_and_type</th></tr>\n",
       "\t<tr><th scope=col>&lt;date&gt;</th><th scope=col>&lt;dbl&gt;</th><th scope=col>&lt;dbl&gt;</th><th scope=col>&lt;chr&gt;</th></tr>\n",
       "</thead>\n",
       "<tbody>\n",
       "\t<tr><td>2021-04-26</td><td>23</td><td>1770000.00</td><td>abd_nominal        </td></tr>\n",
       "\t<tr><td>2021-04-26</td><td>23</td><td>     40.40</td><td>abd_percentage     </td></tr>\n",
       "\t<tr><td>2021-04-26</td><td>22</td><td>     23.50</td><td>arjantin_percentage</td></tr>\n",
       "\t<tr><td>2021-04-26</td><td>20</td><td>      0.85</td><td>abd_percentage     </td></tr>\n",
       "\t<tr><td>2021-04-26</td><td>18</td><td>      0.27</td><td>abd_percentage     </td></tr>\n",
       "</tbody>\n",
       "</table>\n"
      ],
      "text/latex": [
       "A data.table: 5 × 4\n",
       "\\begin{tabular}{llll}\n",
       " date & time & effect & country\\_and\\_type\\\\\n",
       " <date> & <dbl> & <dbl> & <chr>\\\\\n",
       "\\hline\n",
       "\t 2021-04-26 & 23 & 1770000.00 & abd\\_nominal        \\\\\n",
       "\t 2021-04-26 & 23 &      40.40 & abd\\_percentage     \\\\\n",
       "\t 2021-04-26 & 22 &      23.50 & arjantin\\_percentage\\\\\n",
       "\t 2021-04-26 & 20 &       0.85 & abd\\_percentage     \\\\\n",
       "\t 2021-04-26 & 18 &       0.27 & abd\\_percentage     \\\\\n",
       "\\end{tabular}\n"
      ],
      "text/markdown": [
       "\n",
       "A data.table: 5 × 4\n",
       "\n",
       "| date &lt;date&gt; | time &lt;dbl&gt; | effect &lt;dbl&gt; | country_and_type &lt;chr&gt; |\n",
       "|---|---|---|---|\n",
       "| 2021-04-26 | 23 | 1770000.00 | abd_nominal         |\n",
       "| 2021-04-26 | 23 |      40.40 | abd_percentage      |\n",
       "| 2021-04-26 | 22 |      23.50 | arjantin_percentage |\n",
       "| 2021-04-26 | 20 |       0.85 | abd_percentage      |\n",
       "| 2021-04-26 | 18 |       0.27 | abd_percentage      |\n",
       "\n"
      ],
      "text/plain": [
       "  date       time effect     country_and_type   \n",
       "1 2021-04-26 23   1770000.00 abd_nominal        \n",
       "2 2021-04-26 23        40.40 abd_percentage     \n",
       "3 2021-04-26 22        23.50 arjantin_percentage\n",
       "4 2021-04-26 20         0.85 abd_percentage     \n",
       "5 2021-04-26 18         0.27 abd_percentage     "
      ]
     },
     "metadata": {},
     "output_type": "display_data"
    }
   ],
   "source": [
    "economic_calendar3 <- economic_calendar2[,.(effect = round(mean(cleaned_prev2),2)),\n",
    "                   by = c('date','time','country','type')]\n",
    "\n",
    "economic_calendar3[,country := iconv(country,from = 'UTF-8',to = 'ASCII//TRANSLIT')]\n",
    "economic_calendar3[,country := gsub('[[:blank:]]','_',country)]\n",
    "economic_calendar3[,country := tolower(country)]\n",
    "economic_calendar3[,country_and_type := apply(.SD,1,paste,collapse='_'),.SDcols=c('country','type')]\n",
    "economic_calendar3[,country := NULL]\n",
    "economic_calendar3[,type := NULL]\n",
    "economic_calendar3 %>% head(5)"
   ]
  },
  {
   "cell_type": "markdown",
   "id": "cf9c4e81-f217-4e79-9f6f-a83fb14e394a",
   "metadata": {},
   "source": [
    "### Turning this table into wide format"
   ]
  },
  {
   "cell_type": "code",
   "execution_count": 33,
   "id": "4f9b3e64-c0ef-4ab0-bf9f-120e35482f63",
   "metadata": {},
   "outputs": [],
   "source": [
    "economic_calendar4 <- economic_calendar3 %>% \n",
    "pivot_wider(id_cols = c('date','time'),\n",
    "            names_from = 'country_and_type',\n",
    "            values_from = 'effect')"
   ]
  },
  {
   "cell_type": "code",
   "execution_count": 34,
   "id": "b2abfa35-f7d0-45bf-93ca-9b6508cc453a",
   "metadata": {},
   "outputs": [],
   "source": [
    "economic_calendar4[is.na(economic_calendar4)] <- 0"
   ]
  },
  {
   "cell_type": "code",
   "execution_count": 35,
   "id": "f7b6a382-4cea-4b95-baec-d5b0ddb435c2",
   "metadata": {},
   "outputs": [],
   "source": [
    "economic_calendar <- economic_calendar4"
   ]
  },
  {
   "cell_type": "code",
   "execution_count": 36,
   "id": "15e6c85b-fefe-43be-8707-765c8a33e536",
   "metadata": {},
   "outputs": [
    {
     "data": {
      "text/html": [
       "<table class=\"dataframe\">\n",
       "<caption>A matrix: 2 × 6 of type dbl</caption>\n",
       "<thead>\n",
       "\t<tr><th></th><th scope=col>used</th><th scope=col>(Mb)</th><th scope=col>gc trigger</th><th scope=col>(Mb)</th><th scope=col>max used</th><th scope=col>(Mb)</th></tr>\n",
       "</thead>\n",
       "<tbody>\n",
       "\t<tr><th scope=row>Ncells</th><td> 1210959</td><td> 64.7</td><td> 22087404</td><td>1179.6</td><td> 20297413</td><td>1084.0</td></tr>\n",
       "\t<tr><th scope=row>Vcells</th><td>15675126</td><td>119.6</td><td>287184256</td><td>2191.1</td><td>473020589</td><td>3608.9</td></tr>\n",
       "</tbody>\n",
       "</table>\n"
      ],
      "text/latex": [
       "A matrix: 2 × 6 of type dbl\n",
       "\\begin{tabular}{r|llllll}\n",
       "  & used & (Mb) & gc trigger & (Mb) & max used & (Mb)\\\\\n",
       "\\hline\n",
       "\tNcells &  1210959 &  64.7 &  22087404 & 1179.6 &  20297413 & 1084.0\\\\\n",
       "\tVcells & 15675126 & 119.6 & 287184256 & 2191.1 & 473020589 & 3608.9\\\\\n",
       "\\end{tabular}\n"
      ],
      "text/markdown": [
       "\n",
       "A matrix: 2 × 6 of type dbl\n",
       "\n",
       "| <!--/--> | used | (Mb) | gc trigger | (Mb) | max used | (Mb) |\n",
       "|---|---|---|---|---|---|---|\n",
       "| Ncells |  1210959 |  64.7 |  22087404 | 1179.6 |  20297413 | 1084.0 |\n",
       "| Vcells | 15675126 | 119.6 | 287184256 | 2191.1 | 473020589 | 3608.9 |\n",
       "\n"
      ],
      "text/plain": [
       "       used     (Mb)  gc trigger (Mb)   max used  (Mb)  \n",
       "Ncells  1210959  64.7  22087404  1179.6  20297413 1084.0\n",
       "Vcells 15675126 119.6 287184256  2191.1 473020589 3608.9"
      ]
     },
     "metadata": {},
     "output_type": "display_data"
    }
   ],
   "source": [
    "rm(list = setdiff(ls()[grepl('economic_calendar',ls())],'economic_calendar'))\n",
    "gc()"
   ]
  },
  {
   "cell_type": "code",
   "execution_count": 37,
   "id": "e383c393-c342-406a-aba8-14bbed0eaf78",
   "metadata": {},
   "outputs": [
    {
     "data": {
      "text/html": [
       "<style>\n",
       ".list-inline {list-style: none; margin:0; padding: 0}\n",
       ".list-inline>li {display: inline-block}\n",
       ".list-inline>li:not(:last-child)::after {content: \"\\00b7\"; padding: 0 .5ex}\n",
       "</style>\n",
       "<ol class=list-inline><li>'IDate'</li><li>'Date'</li></ol>\n"
      ],
      "text/latex": [
       "\\begin{enumerate*}\n",
       "\\item 'IDate'\n",
       "\\item 'Date'\n",
       "\\end{enumerate*}\n"
      ],
      "text/markdown": [
       "1. 'IDate'\n",
       "2. 'Date'\n",
       "\n",
       "\n"
      ],
      "text/plain": [
       "[1] \"IDate\" \"Date\" "
      ]
     },
     "metadata": {},
     "output_type": "display_data"
    }
   ],
   "source": [
    "economic_calendar %>% select(date) %>% pull %>% class"
   ]
  },
  {
   "cell_type": "markdown",
   "id": "a33d5d4a-6bc8-4a67-a3d7-a54406851c84",
   "metadata": {},
   "source": [
    "### Joining All Data"
   ]
  },
  {
   "cell_type": "code",
   "execution_count": 38,
   "id": "48f34e89-b087-4dfe-931f-4083bc32a7b2",
   "metadata": {},
   "outputs": [],
   "source": [
    "joint_table2 <- left_join(joint_table,mutate(economic_calendar,date=as.Date(date)),by=c('date','hour'='time'))"
   ]
  },
  {
   "cell_type": "code",
   "execution_count": 39,
   "id": "51f54be4-2c99-46a9-8e1c-c8dd3c4f7842",
   "metadata": {},
   "outputs": [],
   "source": [
    "calendar_columns_perc <- colnames(joint_table2)[str_detect(colnames(joint_table2),pattern = '_(percentage)')]\n",
    "calendar_columns_nom <- colnames(joint_table2)[str_detect(colnames(joint_table2),pattern = '_(nominal)')]\n",
    "\n",
    "calendar_columns <- union(calendar_columns_nom,calendar_columns_perc)"
   ]
  },
  {
   "cell_type": "code",
   "execution_count": 40,
   "id": "0d5a538d-d365-4c80-85e7-d95cab94d289",
   "metadata": {},
   "outputs": [],
   "source": [
    "table_template <- colnames(joint_table2)"
   ]
  },
  {
   "cell_type": "code",
   "execution_count": 41,
   "id": "ce49400e-2617-4912-b267-282d1678dbda",
   "metadata": {},
   "outputs": [],
   "source": [
    "joint_table2a <- joint_table2[,lapply(.SD,function(x) ifelse(is.na(x),0,x)),.SDcols=calendar_columns]\n",
    "joint_table2b <- joint_table2[,.SD,.SDcols=!calendar_columns]"
   ]
  },
  {
   "cell_type": "code",
   "execution_count": 42,
   "id": "84b31517-209c-468c-8e43-c11979fa5722",
   "metadata": {},
   "outputs": [],
   "source": [
    "joint_table2 <- cbind(joint_table2a,joint_table2b)\n",
    "setDT(joint_table2)\n",
    "joint_table2 <- joint_table2[,.SD,.SDcols=table_template]"
   ]
  },
  {
   "cell_type": "code",
   "execution_count": 43,
   "id": "7cf0f3ed-8153-41e3-92bc-5757e4239c11",
   "metadata": {},
   "outputs": [],
   "source": [
    "df <- joint_table2"
   ]
  },
  {
   "cell_type": "code",
   "execution_count": 44,
   "id": "789cd991-4402-45e3-b4bd-5d4628ac836d",
   "metadata": {},
   "outputs": [
    {
     "data": {
      "text/html": [
       "<table class=\"dataframe\">\n",
       "<caption>A matrix: 2 × 6 of type dbl</caption>\n",
       "<thead>\n",
       "\t<tr><th></th><th scope=col>used</th><th scope=col>(Mb)</th><th scope=col>gc trigger</th><th scope=col>(Mb)</th><th scope=col>max used</th><th scope=col>(Mb)</th></tr>\n",
       "</thead>\n",
       "<tbody>\n",
       "\t<tr><th scope=row>Ncells</th><td> 1212275</td><td> 64.8</td><td> 17669924</td><td> 943.7</td><td> 20297413</td><td>1084.0</td></tr>\n",
       "\t<tr><th scope=row>Vcells</th><td>34672837</td><td>264.6</td><td>229747405</td><td>1752.9</td><td>473020589</td><td>3608.9</td></tr>\n",
       "</tbody>\n",
       "</table>\n"
      ],
      "text/latex": [
       "A matrix: 2 × 6 of type dbl\n",
       "\\begin{tabular}{r|llllll}\n",
       "  & used & (Mb) & gc trigger & (Mb) & max used & (Mb)\\\\\n",
       "\\hline\n",
       "\tNcells &  1212275 &  64.8 &  17669924 &  943.7 &  20297413 & 1084.0\\\\\n",
       "\tVcells & 34672837 & 264.6 & 229747405 & 1752.9 & 473020589 & 3608.9\\\\\n",
       "\\end{tabular}\n"
      ],
      "text/markdown": [
       "\n",
       "A matrix: 2 × 6 of type dbl\n",
       "\n",
       "| <!--/--> | used | (Mb) | gc trigger | (Mb) | max used | (Mb) |\n",
       "|---|---|---|---|---|---|---|\n",
       "| Ncells |  1212275 |  64.8 |  17669924 |  943.7 |  20297413 | 1084.0 |\n",
       "| Vcells | 34672837 | 264.6 | 229747405 | 1752.9 | 473020589 | 3608.9 |\n",
       "\n"
      ],
      "text/plain": [
       "       used     (Mb)  gc trigger (Mb)   max used  (Mb)  \n",
       "Ncells  1212275  64.8  17669924   943.7  20297413 1084.0\n",
       "Vcells 34672837 264.6 229747405  1752.9 473020589 3608.9"
      ]
     },
     "metadata": {},
     "output_type": "display_data"
    }
   ],
   "source": [
    "rm(list=setdiff(ls(),'df'))\n",
    "gc()"
   ]
  },
  {
   "cell_type": "code",
   "execution_count": 45,
   "id": "4dc4c622-c064-47a9-9a93-b3f86a23d7f0",
   "metadata": {},
   "outputs": [],
   "source": [
    "calendar_columns_perc <- colnames(df)[str_detect(colnames(df),pattern = '_(percentage)')]\n",
    "calendar_columns_nom <- colnames(df)[str_detect(colnames(df),pattern = '_(nominal)')]\n",
    "\n",
    "calendar_columns <- union(calendar_columns_nom,calendar_columns_perc)"
   ]
  },
  {
   "cell_type": "code",
   "execution_count": 46,
   "id": "4fa30d6b-e1a7-4085-881b-daba5825665c",
   "metadata": {},
   "outputs": [],
   "source": [
    "other_independent_vars <- c('year_day','month','usdtry','eurtry','eurusd','faiz')\n",
    "\n",
    "independent_vars <- union(calendar_columns,other_independent_vars)\n",
    "dependent_var <- 'visitor_num'"
   ]
  },
  {
   "cell_type": "markdown",
   "id": "b8a3700f-4ca4-4b83-bcde-a6c9d90a870b",
   "metadata": {},
   "source": [
    "# Analysis\n",
    "\n",
    "## Via Regression"
   ]
  },
  {
   "cell_type": "code",
   "execution_count": 47,
   "id": "6baaea05-b111-4d81-bc4a-a4b22e81229c",
   "metadata": {},
   "outputs": [],
   "source": [
    "formul <- reformulate(termlabels = independent_vars,response = dependent_var)"
   ]
  },
  {
   "cell_type": "markdown",
   "id": "015ff9d8-8ebe-4c31-a015-67e4479fa255",
   "metadata": {},
   "source": [
    "This is not the model that I desire to use, but it will say something about the data. \n",
    "\n",
    "Number of visitors is the dependent and the other variables which you see in the formula are the independent variables. "
   ]
  },
  {
   "cell_type": "code",
   "execution_count": 53,
   "id": "16ba13e6-9414-4138-acf7-9ee2765d6c87",
   "metadata": {},
   "outputs": [
    {
     "data": {
      "text/plain": [
       "visitor_num ~ abd_nominal + brezilya_nominal + angola_nominal + \n",
       "    malezya_nominal + turkiye_nominal + isvicre_nominal + ermenistan_nominal + \n",
       "    urdun_nominal + endonezya_nominal + samoa_nominal + isvec_nominal + \n",
       "    katar_nominal + vietnam_nominal + hong_kong_nominal + italya_nominal + \n",
       "    fransa_nominal + botsvana_nominal + meksika_nominal + japonya_nominal + \n",
       "    belize_nominal + macaristan_nominal + almanya_nominal + karadag_nominal + \n",
       "    macau_nominal + sirbistan_nominal + banglades_nominal + global_nominal + \n",
       "    rusya_nominal + singapur_nominal + finlandiya_nominal + tayland_nominal + \n",
       "    ispanya_nominal + nijerya_nominal + seyseller_nominal + hindistan_nominal + \n",
       "    ukrayna_nominal + kanada_nominal + romanya_nominal + avustralya_nominal + \n",
       "    ingiltere_nominal + azerbaycan_nominal + danimarka_nominal + \n",
       "    uruguay_nominal + guney_kore_nominal + arjantin_nominal + \n",
       "    tayvan_nominal + uganda_nominal + pakistan_nominal + avusturya_nominal + \n",
       "    izlanda_nominal + peru_nominal + filipinler_nominal + cin_nominal + \n",
       "    litvanya_nominal + norvec_nominal + belarus_nominal + cekya_nominal + \n",
       "    slovakya_nominal + israil_nominal + luksemburg_nominal + \n",
       "    gurcistan_nominal + mauritius_nominal + malta_nominal + letonya_nominal + \n",
       "    estonya_nominal + yunanistan_nominal + misir_nominal + polonya_nominal + \n",
       "    sili_nominal + brunei_nominal + slovenya_nominal + portekiz_nominal + \n",
       "    senegal_nominal + tunus_nominal + sri_lanka_nominal + kazakistan_nominal + \n",
       "    paraguay_nominal + dogu_timor_nominal + opec_nominal + mogolistan_nominal + \n",
       "    iea_nominal + esvatini_nominal + belcika_nominal + irlanda_nominal + \n",
       "    ruanda_nominal + moldova_nominal + arnavutluk_nominal + andorra_nominal + \n",
       "    hollanda_nominal + kenya_nominal + filistin_nominal + kosova_nominal + \n",
       "    kosta_rika_nominal + oecd_nominal + zambiya_nominal + surinam_nominal + \n",
       "    kolombiya_nominal + ozbekistan_nominal + fiji_nominal + ekvador_nominal + \n",
       "    abd_percentage + arjantin_percentage + turkiye_percentage + \n",
       "    cin_percentage + fransa_percentage + brezilya_percentage + \n",
       "    meksika_percentage + sri_lanka_percentage + urdun_percentage + \n",
       "    angola_percentage + israil_percentage + malezya_percentage + \n",
       "    almanya_percentage + kazakistan_percentage + ermenistan_percentage + \n",
       "    polonya_percentage + ispanya_percentage + endonezya_percentage + \n",
       "    singapur_percentage + finlandiya_percentage + ozbekistan_percentage + \n",
       "    japonya_percentage + guney_kore_percentage + dogu_timor_percentage + \n",
       "    tayland_percentage + danimarka_percentage + litvanya_percentage + \n",
       "    isvec_percentage + tayvan_percentage + maldivler_percentage + \n",
       "    vietnam_percentage + hong_kong_percentage + italya_percentage + \n",
       "    romanya_percentage + macaristan_percentage + tacikistan_percentage + \n",
       "    ingiltere_percentage + avustralya_percentage + norvec_percentage + \n",
       "    slovakya_percentage + gurcistan_percentage + katar_percentage + \n",
       "    hollanda_percentage + izlanda_percentage + karadag_percentage + \n",
       "    yunanistan_percentage + letonya_percentage + irlanda_percentage + \n",
       "    cekya_percentage + zimbabve_percentage + hindistan_percentage + \n",
       "    kanada_percentage + guatemala_percentage + kuveyt_percentage + \n",
       "    bae_percentage + bahreyn_percentage + belize_percentage + \n",
       "    macau_percentage + laos_percentage + zambiya_percentage + \n",
       "    slovenya_percentage + belcika_percentage + sirbistan_percentage + \n",
       "    portekiz_percentage + botsvana_percentage + kenya_percentage + \n",
       "    fas_percentage + uruguay_percentage + jamaika_percentage + \n",
       "    filipinler_percentage + estonya_percentage + isvicre_percentage + \n",
       "    avusturya_percentage + azerbaycan_percentage + filistin_percentage + \n",
       "    malta_percentage + luksemburg_percentage + seyseller_percentage + \n",
       "    mauritius_percentage + rusya_percentage + sili_percentage + \n",
       "    kolombiya_percentage + afganistan_percentage + peru_percentage + \n",
       "    kktc_percentage + pakistan_percentage + honduras_percentage + \n",
       "    iran_percentage + fiji_percentage + paraguay_percentage + \n",
       "    aruba_percentage + curacau_percentage + guyana_percentage + \n",
       "    oecd_percentage + etiyopya_percentage + tunus_percentage + \n",
       "    ekvador_percentage + arnavutluk_percentage + bolivya_percentage + \n",
       "    banglades_percentage + ruanda_percentage + ukrayna_percentage + \n",
       "    kosta_rika_percentage + nikaragua_percentage + bhutan_percentage + \n",
       "    misir_percentage + senegal_percentage + mali_percentage + \n",
       "    umman_percentage + mozambik_percentage + tanzanya_percentage + \n",
       "    moldova_percentage + namibya_percentage + moritanya_percentage + \n",
       "    kosova_percentage + mogolistan_percentage + esvatini_percentage + \n",
       "    belarus_percentage + nijerya_percentage + gana_percentage + \n",
       "    togo_percentage + lubnan_percentage + gambiya_percentage + \n",
       "    lesotho_percentage + cape_verde_percentage + andorra_percentage + \n",
       "    brunei_percentage + somali_percentage + burundi_percentage + \n",
       "    malavi_percentage + surinam_percentage + venezuela_percentage + \n",
       "    global_percentage + samoa_percentage + uganda_percentage + \n",
       "    panama_percentage + year_day + month + usdtry + eurtry + \n",
       "    eurusd + faiz"
      ]
     },
     "metadata": {},
     "output_type": "display_data"
    }
   ],
   "source": [
    "formul"
   ]
  },
  {
   "cell_type": "markdown",
   "id": "66f9883c-4f5b-45ea-aa02-1f030b283f02",
   "metadata": {},
   "source": [
    "### Training a least squares regression model"
   ]
  },
  {
   "cell_type": "code",
   "execution_count": 48,
   "id": "53e200a2-469b-4131-a52b-f5de8c60a32d",
   "metadata": {},
   "outputs": [],
   "source": [
    "fit <- lm(formul,df)"
   ]
  },
  {
   "cell_type": "code",
   "execution_count": 67,
   "id": "d571a2d9-f428-4559-b9fc-68c49f34e470",
   "metadata": {},
   "outputs": [
    {
     "data": {
      "text/html": [
       "<table class=\"dataframe\">\n",
       "<caption>A tibble: 1 × 1</caption>\n",
       "<thead>\n",
       "\t<tr><th scope=col>p.value</th></tr>\n",
       "\t<tr><th scope=col>&lt;dbl&gt;</th></tr>\n",
       "</thead>\n",
       "<tbody>\n",
       "\t<tr><td>0.000000000000000000000000000000000000000000000000000000000000000003915112</td></tr>\n",
       "</tbody>\n",
       "</table>\n"
      ],
      "text/latex": [
       "A tibble: 1 × 1\n",
       "\\begin{tabular}{l}\n",
       " p.value\\\\\n",
       " <dbl>\\\\\n",
       "\\hline\n",
       "\t 0.000000000000000000000000000000000000000000000000000000000000000003915112\\\\\n",
       "\\end{tabular}\n"
      ],
      "text/markdown": [
       "\n",
       "A tibble: 1 × 1\n",
       "\n",
       "| p.value &lt;dbl&gt; |\n",
       "|---|\n",
       "| 0.000000000000000000000000000000000000000000000000000000000000000003915112 |\n",
       "\n"
      ],
      "text/plain": [
       "  p.value                                                                   \n",
       "1 0.000000000000000000000000000000000000000000000000000000000000000003915112"
      ]
     },
     "metadata": {},
     "output_type": "display_data"
    }
   ],
   "source": [
    "glance(fit)['p.value']"
   ]
  },
  {
   "cell_type": "markdown",
   "id": "46cefedb-daac-4807-918e-3baa280e6c5f",
   "metadata": {},
   "source": [
    "We have a significant model now."
   ]
  },
  {
   "cell_type": "markdown",
   "id": "38523dc1-18e5-42da-8c76-9d978550e5f3",
   "metadata": {},
   "source": [
    "### Interpreting coefficients;\n",
    "\n",
    "I will use only the `significant` (p value <= 0.05) coefficients to get some insights.\n",
    "\n",
    "Coefficients are;"
   ]
  },
  {
   "cell_type": "code",
   "execution_count": 69,
   "id": "afd4cd47-5ae5-4c90-b66b-bb74d03a8f0e",
   "metadata": {},
   "outputs": [
    {
     "data": {
      "text/html": [
       "<table class=\"dataframe\">\n",
       "<caption>A tibble: 44 × 5</caption>\n",
       "<thead>\n",
       "\t<tr><th scope=col>term</th><th scope=col>estimate</th><th scope=col>std.error</th><th scope=col>statistic</th><th scope=col>p.value</th></tr>\n",
       "\t<tr><th scope=col>&lt;chr&gt;</th><th scope=col>&lt;dbl&gt;</th><th scope=col>&lt;dbl&gt;</th><th scope=col>&lt;dbl&gt;</th><th scope=col>&lt;dbl&gt;</th></tr>\n",
       "</thead>\n",
       "<tbody>\n",
       "\t<tr><td>(Intercept)          </td><td> 5378.97390395504498883</td><td>1085.84660818872680466</td><td> 4.953714</td><td>0.0000007293446</td></tr>\n",
       "\t<tr><td>isvicre_nominal      </td><td>    0.00000000003421680</td><td>   0.00000000001532586</td><td> 2.232619</td><td>0.0255764137640</td></tr>\n",
       "\t<tr><td>ermenistan_nominal   </td><td>   -0.00000020369164308</td><td>   0.00000006819023147</td><td>-2.987109</td><td>0.0028170110782</td></tr>\n",
       "\t<tr><td>endonezya_nominal    </td><td>   -0.00000000038428839</td><td>   0.00000000017423394</td><td>-2.205589</td><td>0.0274151998896</td></tr>\n",
       "\t<tr><td>hong_kong_nominal    </td><td>    0.00000000009788486</td><td>   0.00000000004929642</td><td> 1.985638</td><td>0.0470763837380</td></tr>\n",
       "\t<tr><td>meksika_nominal      </td><td>    0.00000000016587265</td><td>   0.00000000005052686</td><td> 3.282861</td><td>0.0010279641563</td></tr>\n",
       "\t<tr><td>karadag_nominal      </td><td>    0.00000203103854098</td><td>   0.00000088449267550</td><td> 2.296275</td><td>0.0216623148129</td></tr>\n",
       "\t<tr><td>singapur_nominal     </td><td>   -0.00000000008962340</td><td>   0.00000000003708808</td><td>-2.416502</td><td>0.0156723150970</td></tr>\n",
       "\t<tr><td>kanada_nominal       </td><td>    0.00000000051919725</td><td>   0.00000000024948569</td><td> 2.081070</td><td>0.0374301424960</td></tr>\n",
       "\t<tr><td>ingiltere_nominal    </td><td>    0.00000000010031636</td><td>   0.00000000004377970</td><td> 2.291390</td><td>0.0219430386359</td></tr>\n",
       "\t<tr><td>filipinler_nominal   </td><td>    0.00000000048828749</td><td>   0.00000000013772718</td><td> 3.545324</td><td>0.0003923185747</td></tr>\n",
       "\t<tr><td>letonya_nominal      </td><td>    0.00000008423586671</td><td>   0.00000002375078714</td><td> 3.546656</td><td>0.0003903411734</td></tr>\n",
       "\t<tr><td>yunanistan_nominal   </td><td>    0.00000001981946390</td><td>   0.00000000927559054</td><td> 2.136733</td><td>0.0326222236974</td></tr>\n",
       "\t<tr><td>mogolistan_nominal   </td><td>   -0.00000008009729934</td><td>   0.00000003740055366</td><td>-2.141607</td><td>0.0322276233523</td></tr>\n",
       "\t<tr><td>arnavutluk_nominal   </td><td>    0.00000000294525636</td><td>   0.00000000107585695</td><td> 2.737591</td><td>0.0061902470918</td></tr>\n",
       "\t<tr><td>kosova_nominal       </td><td>    0.00000252086288134</td><td>   0.00000052538883601</td><td> 4.798090</td><td>0.0000016042786</td></tr>\n",
       "\t<tr><td>ozbekistan_nominal   </td><td>   -0.00000000337136193</td><td>   0.00000000155609415</td><td>-2.166554</td><td>0.0302713527509</td></tr>\n",
       "\t<tr><td>abd_percentage       </td><td>    0.27688330302909564</td><td>   0.09195749447967184</td><td> 3.010992</td><td>0.0026046371867</td></tr>\n",
       "\t<tr><td>cin_percentage       </td><td>   -0.32656890360308344</td><td>   0.13860981191305080</td><td>-2.356030</td><td>0.0184734298724</td></tr>\n",
       "\t<tr><td>brezilya_percentage  </td><td>    2.67879379483275004</td><td>   0.64877915882407045</td><td> 4.128976</td><td>0.0000364691902</td></tr>\n",
       "\t<tr><td>sri_lanka_percentage </td><td>    0.90528556125843507</td><td>   0.42485998978510270</td><td> 2.130786</td><td>0.0331093602378</td></tr>\n",
       "\t<tr><td>singapur_percentage  </td><td>   -2.05521608201418626</td><td>   0.89089559094583637</td><td>-2.306910</td><td>0.0210619637215</td></tr>\n",
       "\t<tr><td>japonya_percentage   </td><td>   -0.30942405769861714</td><td>   0.10932792055559852</td><td>-2.830238</td><td>0.0046523090456</td></tr>\n",
       "\t<tr><td>guney_kore_percentage</td><td>   -1.57854274248800208</td><td>   0.59015573463541959</td><td>-2.674790</td><td>0.0074788808062</td></tr>\n",
       "\t<tr><td>tayland_percentage   </td><td>   -0.66966321185709299</td><td>   0.24028615718252228</td><td>-2.786940</td><td>0.0053218784125</td></tr>\n",
       "\t<tr><td>avustralya_percentage</td><td>   -1.01163635983886491</td><td>   0.23340609218954181</td><td>-4.334233</td><td>0.0000146418951</td></tr>\n",
       "\t<tr><td>hollanda_percentage  </td><td>   -2.83472202775405124</td><td>   1.15956629624027974</td><td>-2.444640</td><td>0.0145014828222</td></tr>\n",
       "\t<tr><td>yunanistan_percentage</td><td>    2.22578149764517796</td><td>   0.86271802577171519</td><td> 2.579964</td><td>0.0098825432317</td></tr>\n",
       "\t<tr><td>letonya_percentage   </td><td>    4.15562769373326546</td><td>   1.79997433657302719</td><td> 2.308715</td><td>0.0209615329571</td></tr>\n",
       "\t<tr><td>irlanda_percentage   </td><td>    2.94673849053977666</td><td>   0.68837562684319309</td><td> 4.280713</td><td>0.0000186477309</td></tr>\n",
       "\t<tr><td>hindistan_percentage </td><td>    0.88384782376713433</td><td>   0.22263820261987385</td><td> 3.969884</td><td>0.0000719603622</td></tr>\n",
       "\t<tr><td>zambiya_percentage   </td><td>    4.08314628414348935</td><td>   1.82931870636506821</td><td> 2.232058</td><td>0.0256134155568</td></tr>\n",
       "\t<tr><td>portekiz_percentage  </td><td>    4.81174765326297393</td><td>   1.73468165497125781</td><td> 2.773851</td><td>0.0055407899391</td></tr>\n",
       "\t<tr><td>luksemburg_percentage</td><td>    5.37962522609613281</td><td>   1.60046756761695508</td><td> 3.361283</td><td>0.0007761162950</td></tr>\n",
       "\t<tr><td>sili_percentage      </td><td>    2.05628842762143016</td><td>   0.84728632569461582</td><td> 2.426911</td><td>0.0152298367276</td></tr>\n",
       "\t<tr><td>afganistan_percentage</td><td>  -19.01262849738268201</td><td>   7.82611448380943742</td><td>-2.429383</td><td>0.0151263868509</td></tr>\n",
       "\t<tr><td>pakistan_percentage  </td><td>    9.17729438351137361</td><td>   4.10768234748667904</td><td> 2.234178</td><td>0.0254736604017</td></tr>\n",
       "\t<tr><td>oecd_percentage      </td><td>    9.03057353691400166</td><td>   2.39647104789605159</td><td> 3.768280</td><td>0.0001644753553</td></tr>\n",
       "\t<tr><td>belarus_percentage   </td><td>    3.98547886948841645</td><td>   1.76100414846845355</td><td> 2.263185</td><td>0.0236265037483</td></tr>\n",
       "\t<tr><td>year_day             </td><td>   -0.32361097916596310</td><td>   0.10049253902149125</td><td>-3.220249</td><td>0.0012812232030</td></tr>\n",
       "\t<tr><td>usdtry               </td><td> -517.93798575709035958</td><td> 124.54990481015369141</td><td>-4.158478</td><td>0.0000320655719</td></tr>\n",
       "\t<tr><td>eurtry               </td><td>  434.85063140252083258</td><td> 105.43811093246992527</td><td> 4.124226</td><td>0.0000372298102</td></tr>\n",
       "\t<tr><td>eurusd               </td><td>-4270.20022881537443027</td><td> 910.30966122578558952</td><td>-4.690931</td><td>0.0000027234077</td></tr>\n",
       "\t<tr><td>faiz                 </td><td>   -9.67703636954354707</td><td>   2.09887452738817792</td><td>-4.610584</td><td>0.0000040206072</td></tr>\n",
       "</tbody>\n",
       "</table>\n"
      ],
      "text/latex": [
       "A tibble: 44 × 5\n",
       "\\begin{tabular}{lllll}\n",
       " term & estimate & std.error & statistic & p.value\\\\\n",
       " <chr> & <dbl> & <dbl> & <dbl> & <dbl>\\\\\n",
       "\\hline\n",
       "\t (Intercept)           &  5378.97390395504498883 & 1085.84660818872680466 &  4.953714 & 0.0000007293446\\\\\n",
       "\t isvicre\\_nominal       &     0.00000000003421680 &    0.00000000001532586 &  2.232619 & 0.0255764137640\\\\\n",
       "\t ermenistan\\_nominal    &    -0.00000020369164308 &    0.00000006819023147 & -2.987109 & 0.0028170110782\\\\\n",
       "\t endonezya\\_nominal     &    -0.00000000038428839 &    0.00000000017423394 & -2.205589 & 0.0274151998896\\\\\n",
       "\t hong\\_kong\\_nominal     &     0.00000000009788486 &    0.00000000004929642 &  1.985638 & 0.0470763837380\\\\\n",
       "\t meksika\\_nominal       &     0.00000000016587265 &    0.00000000005052686 &  3.282861 & 0.0010279641563\\\\\n",
       "\t karadag\\_nominal       &     0.00000203103854098 &    0.00000088449267550 &  2.296275 & 0.0216623148129\\\\\n",
       "\t singapur\\_nominal      &    -0.00000000008962340 &    0.00000000003708808 & -2.416502 & 0.0156723150970\\\\\n",
       "\t kanada\\_nominal        &     0.00000000051919725 &    0.00000000024948569 &  2.081070 & 0.0374301424960\\\\\n",
       "\t ingiltere\\_nominal     &     0.00000000010031636 &    0.00000000004377970 &  2.291390 & 0.0219430386359\\\\\n",
       "\t filipinler\\_nominal    &     0.00000000048828749 &    0.00000000013772718 &  3.545324 & 0.0003923185747\\\\\n",
       "\t letonya\\_nominal       &     0.00000008423586671 &    0.00000002375078714 &  3.546656 & 0.0003903411734\\\\\n",
       "\t yunanistan\\_nominal    &     0.00000001981946390 &    0.00000000927559054 &  2.136733 & 0.0326222236974\\\\\n",
       "\t mogolistan\\_nominal    &    -0.00000008009729934 &    0.00000003740055366 & -2.141607 & 0.0322276233523\\\\\n",
       "\t arnavutluk\\_nominal    &     0.00000000294525636 &    0.00000000107585695 &  2.737591 & 0.0061902470918\\\\\n",
       "\t kosova\\_nominal        &     0.00000252086288134 &    0.00000052538883601 &  4.798090 & 0.0000016042786\\\\\n",
       "\t ozbekistan\\_nominal    &    -0.00000000337136193 &    0.00000000155609415 & -2.166554 & 0.0302713527509\\\\\n",
       "\t abd\\_percentage        &     0.27688330302909564 &    0.09195749447967184 &  3.010992 & 0.0026046371867\\\\\n",
       "\t cin\\_percentage        &    -0.32656890360308344 &    0.13860981191305080 & -2.356030 & 0.0184734298724\\\\\n",
       "\t brezilya\\_percentage   &     2.67879379483275004 &    0.64877915882407045 &  4.128976 & 0.0000364691902\\\\\n",
       "\t sri\\_lanka\\_percentage  &     0.90528556125843507 &    0.42485998978510270 &  2.130786 & 0.0331093602378\\\\\n",
       "\t singapur\\_percentage   &    -2.05521608201418626 &    0.89089559094583637 & -2.306910 & 0.0210619637215\\\\\n",
       "\t japonya\\_percentage    &    -0.30942405769861714 &    0.10932792055559852 & -2.830238 & 0.0046523090456\\\\\n",
       "\t guney\\_kore\\_percentage &    -1.57854274248800208 &    0.59015573463541959 & -2.674790 & 0.0074788808062\\\\\n",
       "\t tayland\\_percentage    &    -0.66966321185709299 &    0.24028615718252228 & -2.786940 & 0.0053218784125\\\\\n",
       "\t avustralya\\_percentage &    -1.01163635983886491 &    0.23340609218954181 & -4.334233 & 0.0000146418951\\\\\n",
       "\t hollanda\\_percentage   &    -2.83472202775405124 &    1.15956629624027974 & -2.444640 & 0.0145014828222\\\\\n",
       "\t yunanistan\\_percentage &     2.22578149764517796 &    0.86271802577171519 &  2.579964 & 0.0098825432317\\\\\n",
       "\t letonya\\_percentage    &     4.15562769373326546 &    1.79997433657302719 &  2.308715 & 0.0209615329571\\\\\n",
       "\t irlanda\\_percentage    &     2.94673849053977666 &    0.68837562684319309 &  4.280713 & 0.0000186477309\\\\\n",
       "\t hindistan\\_percentage  &     0.88384782376713433 &    0.22263820261987385 &  3.969884 & 0.0000719603622\\\\\n",
       "\t zambiya\\_percentage    &     4.08314628414348935 &    1.82931870636506821 &  2.232058 & 0.0256134155568\\\\\n",
       "\t portekiz\\_percentage   &     4.81174765326297393 &    1.73468165497125781 &  2.773851 & 0.0055407899391\\\\\n",
       "\t luksemburg\\_percentage &     5.37962522609613281 &    1.60046756761695508 &  3.361283 & 0.0007761162950\\\\\n",
       "\t sili\\_percentage       &     2.05628842762143016 &    0.84728632569461582 &  2.426911 & 0.0152298367276\\\\\n",
       "\t afganistan\\_percentage &   -19.01262849738268201 &    7.82611448380943742 & -2.429383 & 0.0151263868509\\\\\n",
       "\t pakistan\\_percentage   &     9.17729438351137361 &    4.10768234748667904 &  2.234178 & 0.0254736604017\\\\\n",
       "\t oecd\\_percentage       &     9.03057353691400166 &    2.39647104789605159 &  3.768280 & 0.0001644753553\\\\\n",
       "\t belarus\\_percentage    &     3.98547886948841645 &    1.76100414846845355 &  2.263185 & 0.0236265037483\\\\\n",
       "\t year\\_day              &    -0.32361097916596310 &    0.10049253902149125 & -3.220249 & 0.0012812232030\\\\\n",
       "\t usdtry                &  -517.93798575709035958 &  124.54990481015369141 & -4.158478 & 0.0000320655719\\\\\n",
       "\t eurtry                &   434.85063140252083258 &  105.43811093246992527 &  4.124226 & 0.0000372298102\\\\\n",
       "\t eurusd                & -4270.20022881537443027 &  910.30966122578558952 & -4.690931 & 0.0000027234077\\\\\n",
       "\t faiz                  &    -9.67703636954354707 &    2.09887452738817792 & -4.610584 & 0.0000040206072\\\\\n",
       "\\end{tabular}\n"
      ],
      "text/markdown": [
       "\n",
       "A tibble: 44 × 5\n",
       "\n",
       "| term &lt;chr&gt; | estimate &lt;dbl&gt; | std.error &lt;dbl&gt; | statistic &lt;dbl&gt; | p.value &lt;dbl&gt; |\n",
       "|---|---|---|---|---|\n",
       "| (Intercept)           |  5378.97390395504498883 | 1085.84660818872680466 |  4.953714 | 0.0000007293446 |\n",
       "| isvicre_nominal       |     0.00000000003421680 |    0.00000000001532586 |  2.232619 | 0.0255764137640 |\n",
       "| ermenistan_nominal    |    -0.00000020369164308 |    0.00000006819023147 | -2.987109 | 0.0028170110782 |\n",
       "| endonezya_nominal     |    -0.00000000038428839 |    0.00000000017423394 | -2.205589 | 0.0274151998896 |\n",
       "| hong_kong_nominal     |     0.00000000009788486 |    0.00000000004929642 |  1.985638 | 0.0470763837380 |\n",
       "| meksika_nominal       |     0.00000000016587265 |    0.00000000005052686 |  3.282861 | 0.0010279641563 |\n",
       "| karadag_nominal       |     0.00000203103854098 |    0.00000088449267550 |  2.296275 | 0.0216623148129 |\n",
       "| singapur_nominal      |    -0.00000000008962340 |    0.00000000003708808 | -2.416502 | 0.0156723150970 |\n",
       "| kanada_nominal        |     0.00000000051919725 |    0.00000000024948569 |  2.081070 | 0.0374301424960 |\n",
       "| ingiltere_nominal     |     0.00000000010031636 |    0.00000000004377970 |  2.291390 | 0.0219430386359 |\n",
       "| filipinler_nominal    |     0.00000000048828749 |    0.00000000013772718 |  3.545324 | 0.0003923185747 |\n",
       "| letonya_nominal       |     0.00000008423586671 |    0.00000002375078714 |  3.546656 | 0.0003903411734 |\n",
       "| yunanistan_nominal    |     0.00000001981946390 |    0.00000000927559054 |  2.136733 | 0.0326222236974 |\n",
       "| mogolistan_nominal    |    -0.00000008009729934 |    0.00000003740055366 | -2.141607 | 0.0322276233523 |\n",
       "| arnavutluk_nominal    |     0.00000000294525636 |    0.00000000107585695 |  2.737591 | 0.0061902470918 |\n",
       "| kosova_nominal        |     0.00000252086288134 |    0.00000052538883601 |  4.798090 | 0.0000016042786 |\n",
       "| ozbekistan_nominal    |    -0.00000000337136193 |    0.00000000155609415 | -2.166554 | 0.0302713527509 |\n",
       "| abd_percentage        |     0.27688330302909564 |    0.09195749447967184 |  3.010992 | 0.0026046371867 |\n",
       "| cin_percentage        |    -0.32656890360308344 |    0.13860981191305080 | -2.356030 | 0.0184734298724 |\n",
       "| brezilya_percentage   |     2.67879379483275004 |    0.64877915882407045 |  4.128976 | 0.0000364691902 |\n",
       "| sri_lanka_percentage  |     0.90528556125843507 |    0.42485998978510270 |  2.130786 | 0.0331093602378 |\n",
       "| singapur_percentage   |    -2.05521608201418626 |    0.89089559094583637 | -2.306910 | 0.0210619637215 |\n",
       "| japonya_percentage    |    -0.30942405769861714 |    0.10932792055559852 | -2.830238 | 0.0046523090456 |\n",
       "| guney_kore_percentage |    -1.57854274248800208 |    0.59015573463541959 | -2.674790 | 0.0074788808062 |\n",
       "| tayland_percentage    |    -0.66966321185709299 |    0.24028615718252228 | -2.786940 | 0.0053218784125 |\n",
       "| avustralya_percentage |    -1.01163635983886491 |    0.23340609218954181 | -4.334233 | 0.0000146418951 |\n",
       "| hollanda_percentage   |    -2.83472202775405124 |    1.15956629624027974 | -2.444640 | 0.0145014828222 |\n",
       "| yunanistan_percentage |     2.22578149764517796 |    0.86271802577171519 |  2.579964 | 0.0098825432317 |\n",
       "| letonya_percentage    |     4.15562769373326546 |    1.79997433657302719 |  2.308715 | 0.0209615329571 |\n",
       "| irlanda_percentage    |     2.94673849053977666 |    0.68837562684319309 |  4.280713 | 0.0000186477309 |\n",
       "| hindistan_percentage  |     0.88384782376713433 |    0.22263820261987385 |  3.969884 | 0.0000719603622 |\n",
       "| zambiya_percentage    |     4.08314628414348935 |    1.82931870636506821 |  2.232058 | 0.0256134155568 |\n",
       "| portekiz_percentage   |     4.81174765326297393 |    1.73468165497125781 |  2.773851 | 0.0055407899391 |\n",
       "| luksemburg_percentage |     5.37962522609613281 |    1.60046756761695508 |  3.361283 | 0.0007761162950 |\n",
       "| sili_percentage       |     2.05628842762143016 |    0.84728632569461582 |  2.426911 | 0.0152298367276 |\n",
       "| afganistan_percentage |   -19.01262849738268201 |    7.82611448380943742 | -2.429383 | 0.0151263868509 |\n",
       "| pakistan_percentage   |     9.17729438351137361 |    4.10768234748667904 |  2.234178 | 0.0254736604017 |\n",
       "| oecd_percentage       |     9.03057353691400166 |    2.39647104789605159 |  3.768280 | 0.0001644753553 |\n",
       "| belarus_percentage    |     3.98547886948841645 |    1.76100414846845355 |  2.263185 | 0.0236265037483 |\n",
       "| year_day              |    -0.32361097916596310 |    0.10049253902149125 | -3.220249 | 0.0012812232030 |\n",
       "| usdtry                |  -517.93798575709035958 |  124.54990481015369141 | -4.158478 | 0.0000320655719 |\n",
       "| eurtry                |   434.85063140252083258 |  105.43811093246992527 |  4.124226 | 0.0000372298102 |\n",
       "| eurusd                | -4270.20022881537443027 |  910.30966122578558952 | -4.690931 | 0.0000027234077 |\n",
       "| faiz                  |    -9.67703636954354707 |    2.09887452738817792 | -4.610584 | 0.0000040206072 |\n",
       "\n"
      ],
      "text/plain": [
       "   term                  estimate                std.error             \n",
       "1  (Intercept)            5378.97390395504498883 1085.84660818872680466\n",
       "2  isvicre_nominal           0.00000000003421680    0.00000000001532586\n",
       "3  ermenistan_nominal       -0.00000020369164308    0.00000006819023147\n",
       "4  endonezya_nominal        -0.00000000038428839    0.00000000017423394\n",
       "5  hong_kong_nominal         0.00000000009788486    0.00000000004929642\n",
       "6  meksika_nominal           0.00000000016587265    0.00000000005052686\n",
       "7  karadag_nominal           0.00000203103854098    0.00000088449267550\n",
       "8  singapur_nominal         -0.00000000008962340    0.00000000003708808\n",
       "9  kanada_nominal            0.00000000051919725    0.00000000024948569\n",
       "10 ingiltere_nominal         0.00000000010031636    0.00000000004377970\n",
       "11 filipinler_nominal        0.00000000048828749    0.00000000013772718\n",
       "12 letonya_nominal           0.00000008423586671    0.00000002375078714\n",
       "13 yunanistan_nominal        0.00000001981946390    0.00000000927559054\n",
       "14 mogolistan_nominal       -0.00000008009729934    0.00000003740055366\n",
       "15 arnavutluk_nominal        0.00000000294525636    0.00000000107585695\n",
       "16 kosova_nominal            0.00000252086288134    0.00000052538883601\n",
       "17 ozbekistan_nominal       -0.00000000337136193    0.00000000155609415\n",
       "18 abd_percentage            0.27688330302909564    0.09195749447967184\n",
       "19 cin_percentage           -0.32656890360308344    0.13860981191305080\n",
       "20 brezilya_percentage       2.67879379483275004    0.64877915882407045\n",
       "21 sri_lanka_percentage      0.90528556125843507    0.42485998978510270\n",
       "22 singapur_percentage      -2.05521608201418626    0.89089559094583637\n",
       "23 japonya_percentage       -0.30942405769861714    0.10932792055559852\n",
       "24 guney_kore_percentage    -1.57854274248800208    0.59015573463541959\n",
       "25 tayland_percentage       -0.66966321185709299    0.24028615718252228\n",
       "26 avustralya_percentage    -1.01163635983886491    0.23340609218954181\n",
       "27 hollanda_percentage      -2.83472202775405124    1.15956629624027974\n",
       "28 yunanistan_percentage     2.22578149764517796    0.86271802577171519\n",
       "29 letonya_percentage        4.15562769373326546    1.79997433657302719\n",
       "30 irlanda_percentage        2.94673849053977666    0.68837562684319309\n",
       "31 hindistan_percentage      0.88384782376713433    0.22263820261987385\n",
       "32 zambiya_percentage        4.08314628414348935    1.82931870636506821\n",
       "33 portekiz_percentage       4.81174765326297393    1.73468165497125781\n",
       "34 luksemburg_percentage     5.37962522609613281    1.60046756761695508\n",
       "35 sili_percentage           2.05628842762143016    0.84728632569461582\n",
       "36 afganistan_percentage   -19.01262849738268201    7.82611448380943742\n",
       "37 pakistan_percentage       9.17729438351137361    4.10768234748667904\n",
       "38 oecd_percentage           9.03057353691400166    2.39647104789605159\n",
       "39 belarus_percentage        3.98547886948841645    1.76100414846845355\n",
       "40 year_day                 -0.32361097916596310    0.10049253902149125\n",
       "41 usdtry                 -517.93798575709035958  124.54990481015369141\n",
       "42 eurtry                  434.85063140252083258  105.43811093246992527\n",
       "43 eurusd                -4270.20022881537443027  910.30966122578558952\n",
       "44 faiz                     -9.67703636954354707    2.09887452738817792\n",
       "   statistic p.value        \n",
       "1   4.953714 0.0000007293446\n",
       "2   2.232619 0.0255764137640\n",
       "3  -2.987109 0.0028170110782\n",
       "4  -2.205589 0.0274151998896\n",
       "5   1.985638 0.0470763837380\n",
       "6   3.282861 0.0010279641563\n",
       "7   2.296275 0.0216623148129\n",
       "8  -2.416502 0.0156723150970\n",
       "9   2.081070 0.0374301424960\n",
       "10  2.291390 0.0219430386359\n",
       "11  3.545324 0.0003923185747\n",
       "12  3.546656 0.0003903411734\n",
       "13  2.136733 0.0326222236974\n",
       "14 -2.141607 0.0322276233523\n",
       "15  2.737591 0.0061902470918\n",
       "16  4.798090 0.0000016042786\n",
       "17 -2.166554 0.0302713527509\n",
       "18  3.010992 0.0026046371867\n",
       "19 -2.356030 0.0184734298724\n",
       "20  4.128976 0.0000364691902\n",
       "21  2.130786 0.0331093602378\n",
       "22 -2.306910 0.0210619637215\n",
       "23 -2.830238 0.0046523090456\n",
       "24 -2.674790 0.0074788808062\n",
       "25 -2.786940 0.0053218784125\n",
       "26 -4.334233 0.0000146418951\n",
       "27 -2.444640 0.0145014828222\n",
       "28  2.579964 0.0098825432317\n",
       "29  2.308715 0.0209615329571\n",
       "30  4.280713 0.0000186477309\n",
       "31  3.969884 0.0000719603622\n",
       "32  2.232058 0.0256134155568\n",
       "33  2.773851 0.0055407899391\n",
       "34  3.361283 0.0007761162950\n",
       "35  2.426911 0.0152298367276\n",
       "36 -2.429383 0.0151263868509\n",
       "37  2.234178 0.0254736604017\n",
       "38  3.768280 0.0001644753553\n",
       "39  2.263185 0.0236265037483\n",
       "40 -3.220249 0.0012812232030\n",
       "41 -4.158478 0.0000320655719\n",
       "42  4.124226 0.0000372298102\n",
       "43 -4.690931 0.0000027234077\n",
       "44 -4.610584 0.0000040206072"
      ]
     },
     "metadata": {},
     "output_type": "display_data"
    }
   ],
   "source": [
    "fit %>% \n",
    "tidy %>% \n",
    "filter(p.value <= 0.05) -> significant_vars\n",
    "\n",
    "significant_vars"
   ]
  },
  {
   "cell_type": "code",
   "execution_count": 84,
   "id": "d2fe7710-9a2a-436c-ace3-86fca333131d",
   "metadata": {},
   "outputs": [
    {
     "data": {
      "text/html": [
       "<table class=\"dataframe\">\n",
       "<caption>A data.table: 6 × 1</caption>\n",
       "<thead>\n",
       "\t<tr><th scope=col>usdtry</th></tr>\n",
       "\t<tr><th scope=col>&lt;dbl&gt;</th></tr>\n",
       "</thead>\n",
       "<tbody>\n",
       "\t<tr><td>8.2159</td></tr>\n",
       "\t<tr><td>8.2159</td></tr>\n",
       "\t<tr><td>8.2159</td></tr>\n",
       "\t<tr><td>8.2159</td></tr>\n",
       "\t<tr><td>8.2159</td></tr>\n",
       "\t<tr><td>8.2159</td></tr>\n",
       "</tbody>\n",
       "</table>\n"
      ],
      "text/latex": [
       "A data.table: 6 × 1\n",
       "\\begin{tabular}{l}\n",
       " usdtry\\\\\n",
       " <dbl>\\\\\n",
       "\\hline\n",
       "\t 8.2159\\\\\n",
       "\t 8.2159\\\\\n",
       "\t 8.2159\\\\\n",
       "\t 8.2159\\\\\n",
       "\t 8.2159\\\\\n",
       "\t 8.2159\\\\\n",
       "\\end{tabular}\n"
      ],
      "text/markdown": [
       "\n",
       "A data.table: 6 × 1\n",
       "\n",
       "| usdtry &lt;dbl&gt; |\n",
       "|---|\n",
       "| 8.2159 |\n",
       "| 8.2159 |\n",
       "| 8.2159 |\n",
       "| 8.2159 |\n",
       "| 8.2159 |\n",
       "| 8.2159 |\n",
       "\n"
      ],
      "text/plain": [
       "  usdtry\n",
       "1 8.2159\n",
       "2 8.2159\n",
       "3 8.2159\n",
       "4 8.2159\n",
       "5 8.2159\n",
       "6 8.2159"
      ]
     },
     "metadata": {},
     "output_type": "display_data"
    }
   ],
   "source": [
    "df %>% head %>% select(usdtry)"
   ]
  },
  {
   "cell_type": "code",
   "execution_count": 82,
   "id": "e2621d87-62b1-4fe4-bd28-bc744579a43d",
   "metadata": {},
   "outputs": [
    {
     "data": {
      "text/html": [
       "<table class=\"dataframe\">\n",
       "<caption>A tibble: 6 × 3</caption>\n",
       "<thead>\n",
       "\t<tr><th scope=col>kita</th><th scope=col>type</th><th scope=col>estimate</th></tr>\n",
       "\t<tr><th scope=col>&lt;chr&gt;</th><th scope=col>&lt;chr&gt;</th><th scope=col>&lt;dbl&gt;</th></tr>\n",
       "</thead>\n",
       "<tbody>\n",
       "\t<tr><td>am</td><td>nominal   </td><td> 0.0000000003425349</td></tr>\n",
       "\t<tr><td>am</td><td>percentage</td><td> 2.0562884276214302</td></tr>\n",
       "\t<tr><td>as</td><td>nominal   </td><td>-0.0000000003842884</td></tr>\n",
       "\t<tr><td>as</td><td>percentage</td><td>-0.4981160577300882</td></tr>\n",
       "\t<tr><td>eu</td><td>nominal   </td><td> 0.0000000198194639</td></tr>\n",
       "\t<tr><td>eu</td><td>percentage</td><td> 3.9854788694884165</td></tr>\n",
       "</tbody>\n",
       "</table>\n"
      ],
      "text/latex": [
       "A tibble: 6 × 3\n",
       "\\begin{tabular}{lll}\n",
       " kita & type & estimate\\\\\n",
       " <chr> & <chr> & <dbl>\\\\\n",
       "\\hline\n",
       "\t am & nominal    &  0.0000000003425349\\\\\n",
       "\t am & percentage &  2.0562884276214302\\\\\n",
       "\t as & nominal    & -0.0000000003842884\\\\\n",
       "\t as & percentage & -0.4981160577300882\\\\\n",
       "\t eu & nominal    &  0.0000000198194639\\\\\n",
       "\t eu & percentage &  3.9854788694884165\\\\\n",
       "\\end{tabular}\n"
      ],
      "text/markdown": [
       "\n",
       "A tibble: 6 × 3\n",
       "\n",
       "| kita &lt;chr&gt; | type &lt;chr&gt; | estimate &lt;dbl&gt; |\n",
       "|---|---|---|\n",
       "| am | nominal    |  0.0000000003425349 |\n",
       "| am | percentage |  2.0562884276214302 |\n",
       "| as | nominal    | -0.0000000003842884 |\n",
       "| as | percentage | -0.4981160577300882 |\n",
       "| eu | nominal    |  0.0000000198194639 |\n",
       "| eu | percentage |  3.9854788694884165 |\n",
       "\n"
      ],
      "text/plain": [
       "  kita type       estimate           \n",
       "1 am   nominal     0.0000000003425349\n",
       "2 am   percentage  2.0562884276214302\n",
       "3 as   nominal    -0.0000000003842884\n",
       "4 as   percentage -0.4981160577300882\n",
       "5 eu   nominal     0.0000000198194639\n",
       "6 eu   percentage  3.9854788694884165"
      ]
     },
     "metadata": {},
     "output_type": "display_data"
    }
   ],
   "source": [
    "significant_vars %>% \n",
    "filter(grepl('_nominal',term) | grepl('_percentage',term)) %>% \n",
    "mutate(kita = c('eu','as','as','as','am','eu','as','am',\n",
    "                'eu','as','eu','eu','as','eu','eu','as','am',\n",
    "                'as','am','as','as','as','as','as','as',\n",
    "                'eu','eu','eu','eu','as',NA,'eu','eu','am','as','as',NA,'eu')) %>% \n",
    "mutate(type = sapply(strsplit(term,split = '_'),function(x) x[length(x)])) %>% \n",
    "group_by(kita,type) %>% \n",
    "summarise(estimate = median(estimate),.groups='drop') %>% \n",
    "na.omit"
   ]
  },
  {
   "cell_type": "markdown",
   "id": "8bfcfcef-39bd-4fb0-a2d0-dbf54d4532db",
   "metadata": {},
   "source": [
    "### Point 1 :\n",
    "\n",
    "When I check the coefficients (in aggregate way by continents) I can make these comments;\n",
    "\n",
    "- Percentage and nominal increases originating from the Americas **positively** and `significantly` affect the number of visitors. \n",
    "\n",
    "- Percentage and nominal increases originating from the Asian continent **negatively** and `significantly` affect the number of visitors. \n",
    "\n",
    "- The `biggest` positive effect among the continents comes from the European continent. While the percentage increases do not differ much from other continents, nominal explanations `positively` affect the number of visitors to the site."
   ]
  },
  {
   "cell_type": "code",
   "execution_count": 85,
   "id": "7732a2ae-a4cf-4f01-a118-4ea19029504f",
   "metadata": {},
   "outputs": [
    {
     "data": {
      "text/html": [
       "<table class=\"dataframe\">\n",
       "<caption>A tibble: 6 × 5</caption>\n",
       "<thead>\n",
       "\t<tr><th scope=col>term</th><th scope=col>estimate</th><th scope=col>std.error</th><th scope=col>statistic</th><th scope=col>p.value</th></tr>\n",
       "\t<tr><th scope=col>&lt;chr&gt;</th><th scope=col>&lt;dbl&gt;</th><th scope=col>&lt;dbl&gt;</th><th scope=col>&lt;dbl&gt;</th><th scope=col>&lt;dbl&gt;</th></tr>\n",
       "</thead>\n",
       "<tbody>\n",
       "\t<tr><td>(Intercept)</td><td> 5378.973904</td><td>1085.8466082</td><td> 4.953714</td><td>0.0000007293446</td></tr>\n",
       "\t<tr><td>year_day   </td><td>   -0.323611</td><td>   0.1004925</td><td>-3.220249</td><td>0.0012812232030</td></tr>\n",
       "\t<tr><td>usdtry     </td><td> -517.937986</td><td> 124.5499048</td><td>-4.158478</td><td>0.0000320655719</td></tr>\n",
       "\t<tr><td>eurtry     </td><td>  434.850631</td><td> 105.4381109</td><td> 4.124226</td><td>0.0000372298102</td></tr>\n",
       "\t<tr><td>eurusd     </td><td>-4270.200229</td><td> 910.3096612</td><td>-4.690931</td><td>0.0000027234077</td></tr>\n",
       "\t<tr><td>faiz       </td><td>   -9.677036</td><td>   2.0988745</td><td>-4.610584</td><td>0.0000040206072</td></tr>\n",
       "</tbody>\n",
       "</table>\n"
      ],
      "text/latex": [
       "A tibble: 6 × 5\n",
       "\\begin{tabular}{lllll}\n",
       " term & estimate & std.error & statistic & p.value\\\\\n",
       " <chr> & <dbl> & <dbl> & <dbl> & <dbl>\\\\\n",
       "\\hline\n",
       "\t (Intercept) &  5378.973904 & 1085.8466082 &  4.953714 & 0.0000007293446\\\\\n",
       "\t year\\_day    &    -0.323611 &    0.1004925 & -3.220249 & 0.0012812232030\\\\\n",
       "\t usdtry      &  -517.937986 &  124.5499048 & -4.158478 & 0.0000320655719\\\\\n",
       "\t eurtry      &   434.850631 &  105.4381109 &  4.124226 & 0.0000372298102\\\\\n",
       "\t eurusd      & -4270.200229 &  910.3096612 & -4.690931 & 0.0000027234077\\\\\n",
       "\t faiz        &    -9.677036 &    2.0988745 & -4.610584 & 0.0000040206072\\\\\n",
       "\\end{tabular}\n"
      ],
      "text/markdown": [
       "\n",
       "A tibble: 6 × 5\n",
       "\n",
       "| term &lt;chr&gt; | estimate &lt;dbl&gt; | std.error &lt;dbl&gt; | statistic &lt;dbl&gt; | p.value &lt;dbl&gt; |\n",
       "|---|---|---|---|---|\n",
       "| (Intercept) |  5378.973904 | 1085.8466082 |  4.953714 | 0.0000007293446 |\n",
       "| year_day    |    -0.323611 |    0.1004925 | -3.220249 | 0.0012812232030 |\n",
       "| usdtry      |  -517.937986 |  124.5499048 | -4.158478 | 0.0000320655719 |\n",
       "| eurtry      |   434.850631 |  105.4381109 |  4.124226 | 0.0000372298102 |\n",
       "| eurusd      | -4270.200229 |  910.3096612 | -4.690931 | 0.0000027234077 |\n",
       "| faiz        |    -9.677036 |    2.0988745 | -4.610584 | 0.0000040206072 |\n",
       "\n"
      ],
      "text/plain": [
       "  term        estimate     std.error    statistic p.value        \n",
       "1 (Intercept)  5378.973904 1085.8466082  4.953714 0.0000007293446\n",
       "2 year_day       -0.323611    0.1004925 -3.220249 0.0012812232030\n",
       "3 usdtry       -517.937986  124.5499048 -4.158478 0.0000320655719\n",
       "4 eurtry        434.850631  105.4381109  4.124226 0.0000372298102\n",
       "5 eurusd      -4270.200229  910.3096612 -4.690931 0.0000027234077\n",
       "6 faiz           -9.677036    2.0988745 -4.610584 0.0000040206072"
      ]
     },
     "metadata": {},
     "output_type": "display_data"
    }
   ],
   "source": [
    "significant_vars %>% \n",
    "filter(!(grepl('_nominal',term) | grepl('_percentage',term)))"
   ]
  },
  {
   "cell_type": "markdown",
   "id": "05aa2022-36b4-4782-a1e0-17572dcecc22",
   "metadata": {},
   "source": [
    "### Point 2 :\n",
    "\n",
    "Excluding the economic calendar variables, the following are seen when the other coefficients are examined ;\n",
    "\n",
    "- It is expected that the number of visitors to the site will be *less* towards the end of the year.\n",
    "\n",
    "- The depreciation of the Turkish lira against the dollar *negatively* affects the number of visitors to the site.\n",
    "\n",
    "- The depreciation of the Euro against the dollar *negatively* affects the number of visitors to the site.\n",
    "\n",
    "- The higher interest rate is expected to *decrease* the number of visitors to the site.\n",
    "\n",
    "- The higher interest rate is expected to *decrease* the number of visitors to the site.\n",
    "\n",
    "- It is expected that the appreciation of the euro against the Turkish lira will **positively** affect the number of visitors to the site."
   ]
  },
  {
   "cell_type": "markdown",
   "id": "d3c976ad-a927-4017-866b-dd15c01b8167",
   "metadata": {},
   "source": [
    "## Visualizations "
   ]
  },
  {
   "cell_type": "code",
   "execution_count": 96,
   "id": "ff9163b8-47f8-4f03-a283-1c85ed91e4c5",
   "metadata": {},
   "outputs": [
    {
     "data": {
      "image/png": "[encoded data removed]",
      "text/plain": [
       "plot without title"
      ]
     },
     "metadata": {
      "image/png": {
       "height": 420,
       "width": 900
      }
     },
     "output_type": "display_data"
    }
   ],
   "source": [
    "df %>% \n",
    "group_by(date) %>% \n",
    "summarise(visitor_num = sum(visitor_num),usdtry=mean(usdtry)) %>% \n",
    "ggplot(aes(date,visitor_num))+\n",
    "geom_line()+\n",
    "geom_smooth(method = 'loess',formula=y~x)"
   ]
  },
  {
   "cell_type": "markdown",
   "id": "c1831975-2926-436d-af28-ab8c832bf407",
   "metadata": {},
   "source": [
    "### Point 3 :\n",
    "\n",
    "In aggregate way again, when we sum up the number of visitors, we can see that the most visited season is May and July and starts to decrease after July (which supports my inference at `Point 2`). To show more clear, I added a smooth line to the time series above."
   ]
  },
  {
   "cell_type": "markdown",
   "id": "6063ffbf-ea6a-4647-8f81-c6d335ac0ad5",
   "metadata": {},
   "source": [
    "### I am labelling weekends"
   ]
  },
  {
   "cell_type": "code",
   "execution_count": 117,
   "id": "229d710c-a5e0-40d3-9348-a0ad4685cbc7",
   "metadata": {},
   "outputs": [
    {
     "name": "stderr",
     "output_type": "stream",
     "text": [
      "Warning message:\n",
      "“Removed 124 rows containing missing values (geom_point).”\n"
     ]
    },
    {
     "data": {
      "image/png": "[encoded data removed]",
      "text/plain": [
       "plot without title"
      ]
     },
     "metadata": {
      "image/png": {
       "height": 420,
       "width": 900
      }
     },
     "output_type": "display_data"
    }
   ],
   "source": [
    "df %>% \n",
    "group_by(date,week_day) %>% \n",
    "summarise(visitor_num = sum(visitor_num),.groups='drop')  %>% \n",
    "mutate(weekend = ifelse(week_day=='Cts' | week_day=='Paz',as.character(date),NA)) %>% \n",
    "mutate(weekend = as.Date(weekend)) %>%\n",
    "mutate(dayname = ifelse(is.na(weekend),NA,week_day)) %>%\n",
    "ggplot(aes(date,visitor_num))+\n",
    "geom_line()+\n",
    "geom_smooth(method='loess',formula=y~x)+\n",
    "geom_point(aes(weekend,visitor_num,shape=dayname))"
   ]
  },
  {
   "cell_type": "markdown",
   "id": "7bbfede4-74bf-4b7d-86cb-bbabc12ae527",
   "metadata": {},
   "source": [
    "### Point 4 :\n",
    "\n",
    "- Until July, local maximums were seen on weekends, then local minimums started to be seen on weekends.\n"
   ]
  },
  {
   "cell_type": "code",
   "execution_count": 141,
   "id": "8b535e8d-ef86-47d8-b06e-958758ec0c14",
   "metadata": {},
   "outputs": [
    {
     "name": "stderr",
     "output_type": "stream",
     "text": [
      "`summarise()` has grouped output by 'date'. You can override using the `.groups` argument.\n",
      "\n"
     ]
    },
    {
     "data": {
      "image/png": "[encoded data removed]",
      "text/plain": [
       "plot without title"
      ]
     },
     "metadata": {
      "image/png": {
       "height": 420,
       "width": 900
      }
     },
     "output_type": "display_data"
    }
   ],
   "source": [
    "df %>% \n",
    "mutate(faiz_binary = cut(faiz,c(-Inf,quantile(faiz,c(0.25,0.5,0.75)),Inf),labels = 1:4)) %>% \n",
    "group_by(date,faiz_binary) %>% \n",
    "summarise(visitor_num = sum(visitor_num)) %>% \n",
    "mutate(month = month(date)) %>% \n",
    "ggplot(aes(month,visitor_num))+\n",
    "geom_bar(aes(fill=faiz_binary),stat='identity',position=position_dodge2(preserve = 'single'))"
   ]
  },
  {
   "cell_type": "markdown",
   "id": "205a3c74-adee-44e7-b700-a75251624ce0",
   "metadata": {},
   "source": [
    "### Point 5 : \n",
    "\n",
    "I cutted interest rate variable onto 4 categories from its quantiles. I examined this monthly and saw that more visitors come on days with low interest rates during the month.\n",
    "\n",
    "-------\n",
    "\n",
    "#### Saving last version of data"
   ]
  },
  {
   "cell_type": "code",
   "execution_count": 142,
   "id": "2290073b-7dbb-4b67-bff6-9929f4e2426e",
   "metadata": {},
   "outputs": [],
   "source": [
    "df %>% write.fst('data_serialized/aggregate_data.fst')"
   ]
  }
 ],
 "metadata": {
  "kernelspec": {
   "display_name": "R",
   "language": "R",
   "name": "ir"
  },
  "language_info": {
   "codemirror_mode": "r",
   "file_extension": ".r",
   "mimetype": "text/x-r-source",
   "name": "R",
   "pygments_lexer": "r",
   "version": "4.1.1"
  }
 },
 "nbformat": 4,
 "nbformat_minor": 5
}
