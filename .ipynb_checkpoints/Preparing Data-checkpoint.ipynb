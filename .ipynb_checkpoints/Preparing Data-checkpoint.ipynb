{
 "cells": [
  {
   "cell_type": "markdown",
   "id": "fbb74bb1-df67-412a-b451-c1b6b4602f02",
   "metadata": {},
   "source": [
    "Note : All work has been done using R language."
   ]
  },
  {
   "cell_type": "code",
   "execution_count": null,
   "id": "f9e21471-b524-48aa-bb45-4e56ec5b2775",
   "metadata": {},
   "outputs": [],
   "source": [
    "library(data.table)\n",
    "library(tidyverse)\n",
    "library(fst)\n",
    "library(microbenchmark)"
   ]
  },
  {
   "cell_type": "markdown",
   "id": "e81261b7-1308-445e-8d86-f74472ecb24e",
   "metadata": {},
   "source": [
    "## Reading & Compressing & Re-Reading Data"
   ]
  },
  {
   "cell_type": "code",
   "execution_count": 2,
   "id": "e021e2cf-1423-49e2-81f0-87e7cfdbc423",
   "metadata": {},
   "outputs": [
    {
     "data": {
      "text/html": [
       "<style>\n",
       ".list-inline {list-style: none; margin:0; padding: 0}\n",
       ".list-inline>li {display: inline-block}\n",
       ".list-inline>li:not(:last-child)::after {content: \"\\00b7\"; padding: 0 .5ex}\n",
       "</style>\n",
       "<ol class=list-inline><li>'economic_calendar.csv'</li><li>'economic_variables.csv'</li><li>'live_digital_campaigns.csv'</li><li>'transactions.csv'</li></ol>\n"
      ],
      "text/latex": [
       "\\begin{enumerate*}\n",
       "\\item 'economic\\_calendar.csv'\n",
       "\\item 'economic\\_variables.csv'\n",
       "\\item 'live\\_digital\\_campaigns.csv'\n",
       "\\item 'transactions.csv'\n",
       "\\end{enumerate*}\n"
      ],
      "text/markdown": [
       "1. 'economic_calendar.csv'\n",
       "2. 'economic_variables.csv'\n",
       "3. 'live_digital_campaigns.csv'\n",
       "4. 'transactions.csv'\n",
       "\n",
       "\n"
      ],
      "text/plain": [
       "[1] \"economic_calendar.csv\"      \"economic_variables.csv\"    \n",
       "[3] \"live_digital_campaigns.csv\" \"transactions.csv\"          "
      ]
     },
     "metadata": {},
     "output_type": "display_data"
    }
   ],
   "source": [
    "data_path <- 'data/'\n",
    "serialized_data_path <- 'data_serialized/'\n",
    "\n",
    "list.files(data_path)"
   ]
  },
  {
   "cell_type": "markdown",
   "id": "0766afdb-72f8-46da-a6f5-b273913f63af",
   "metadata": {},
   "source": [
    "-----------------"
   ]
  },
  {
   "cell_type": "markdown",
   "id": "4128b166-587e-4899-839b-cac6dbff03ee",
   "metadata": {},
   "source": [
    "I am going to read each file separately then compress (serialize) them all to read faster and use less space."
   ]
  },
  {
   "cell_type": "code",
   "execution_count": 3,
   "id": "336b7758-63c6-497b-9ad5-5e4755d73fe5",
   "metadata": {},
   "outputs": [
    {
     "data": {
      "text/html": [
       "'economic_calendar Done.'"
      ],
      "text/latex": [
       "'economic\\_calendar Done.'"
      ],
      "text/markdown": [
       "'economic_calendar Done.'"
      ],
      "text/plain": [
       "[1] \"economic_calendar Done.\""
      ]
     },
     "metadata": {},
     "output_type": "display_data"
    },
    {
     "data": {
      "text/html": [
       "'economic_variables Done.'"
      ],
      "text/latex": [
       "'economic\\_variables Done.'"
      ],
      "text/markdown": [
       "'economic_variables Done.'"
      ],
      "text/plain": [
       "[1] \"economic_variables Done.\""
      ]
     },
     "metadata": {},
     "output_type": "display_data"
    },
    {
     "data": {
      "text/html": [
       "'live_digital_campaigns Done.'"
      ],
      "text/latex": [
       "'live\\_digital\\_campaigns Done.'"
      ],
      "text/markdown": [
       "'live_digital_campaigns Done.'"
      ],
      "text/plain": [
       "[1] \"live_digital_campaigns Done.\""
      ]
     },
     "metadata": {},
     "output_type": "display_data"
    },
    {
     "data": {
      "text/html": [
       "'transactions Done.'"
      ],
      "text/latex": [
       "'transactions Done.'"
      ],
      "text/markdown": [
       "'transactions Done.'"
      ],
      "text/plain": [
       "[1] \"transactions Done.\""
      ]
     },
     "metadata": {},
     "output_type": "display_data"
    }
   ],
   "source": [
    "for(i in list.files(data_path)){\n",
    "    object_name <- gsub('.csv','.obj',i)\n",
    "    serialized_object_name <- gsub('.csv','.fst',i)\n",
    "    eval(parse(text = sprintf(\"%s <- fread('%s%s')\",object_name,data_path,i)))\n",
    "    eval(parse(text = sprintf(\"write.fst(%s,'%s%s')\",object_name,serialized_data_path,serialized_object_name)))\n",
    "    eval(parse(text = sprintf('rm(%s); gc()',object_name)))\n",
    "    IRdisplay::display(sprintf('%s Done.',gsub('.obj','',object_name)))\n",
    "}"
   ]
  },
  {
   "cell_type": "markdown",
   "id": "8e8065cf-b265-4209-95b3-a5d9682000d1",
   "metadata": {},
   "source": [
    "--------------"
   ]
  },
  {
   "cell_type": "markdown",
   "id": "a3d38599-2808-4126-ae0a-a39e8c42c67e",
   "metadata": {},
   "source": [
    "After this process, the data size and reading times will be as follows;"
   ]
  },
  {
   "cell_type": "code",
   "execution_count": 4,
   "id": "197869d6-8f58-4cf2-8dca-289c21df4238",
   "metadata": {},
   "outputs": [],
   "source": [
    "file_infos <- NULL\n",
    "reading_speed <- NULL\n",
    "\n",
    "for(i in list.files(data_path)){\n",
    "    object_name <- gsub('.csv','',i)\n",
    "    object_serialized_name <- sprintf('%s.fst',object_name)\n",
    "    \n",
    "    csv_path <- sprintf('%s%s',data_path,i)\n",
    "    fst_path <- sprintf('%s%s',serialized_data_path,object_serialized_name)\n",
    "    \n",
    "    normal_boyut <- file.info(csv_path)$size\n",
    "    serialized_boyut <- file.info(fst_path)$size\n",
    "    \n",
    "    eval(parse(text=sprintf(\"csv_bm <- microbenchmark(%s <- read.csv('%s'),times = 1) ; rm(%s)\",object_name,csv_path,object_name)))\n",
    "    gc()\n",
    "    \n",
    "    csv_reading_time <- csv_bm$time\n",
    "    \n",
    "    Sys.sleep(3)\n",
    "    \n",
    "    eval(parse(text=sprintf(\"fst_bm <- microbenchmark(%s <- read.fst('%s'),times = 1) ; rm(%s)\",object_name,fst_path,object_name)))\n",
    "    gc()\n",
    "    \n",
    "    fst_reading_time <- fst_bm$time\n",
    "    \n",
    "    info_row <- data.frame(Dosya = i,\n",
    "                           Boyut = normal_boyut, Boyut2 = serialized_boyut,\n",
    "                           Hiz = csv_reading_time, Hiz2= fst_reading_time)\n",
    "    file_infos <- rbind(file_infos,info_row)\n",
    "    \n",
    "}\n"
   ]
  },
  {
   "cell_type": "markdown",
   "id": "34075607-529e-4de4-806e-7da86b201fd9",
   "metadata": {},
   "source": [
    "---------------------"
   ]
  },
  {
   "cell_type": "code",
   "execution_count": 28,
   "id": "21bc5381-1b6b-4ddb-8a84-4306547976c3",
   "metadata": {},
   "outputs": [
    {
     "data": {
      "image/png": "[encoded data removed]",
      "text/plain": [
       "plot without title"
      ]
     },
     "metadata": {
      "image/png": {
       "height": 420,
       "width": 600
      }
     },
     "output_type": "display_data"
    }
   ],
   "source": [
    "options(scipen=999)\n",
    "options(repr.plot.width=10)\n",
    "file_infos %>% \n",
    "select(-Dosya) %>% \n",
    "summarise_all(sum) %>% \n",
    "pivot_longer(cols = everything()) %>% \n",
    "mutate(type=gsub('2','',name)) %>% \n",
    "ggplot(aes(x=type,y=value,fill=name))+\n",
    "geom_bar(stat='identity',position = 'dodge') + \n",
    "facet_wrap(~type,scales = 'free')+\n",
    "xlab('Ölçüt')+ylab('Değer')+\n",
    "ggtitle('Boyut \"Byte\", Zaman ise \"Microsecond\" birimiyle ölçülmüştür.')"
   ]
  },
  {
   "cell_type": "code",
   "execution_count": 29,
   "id": "bfef88ff-1f4c-4cdb-9d43-83ef7c1cc8f6",
   "metadata": {},
   "outputs": [
    {
     "data": {
      "text/html": [
       "<table class=\"dataframe\">\n",
       "<caption>A data.frame: 4 × 5</caption>\n",
       "<thead>\n",
       "\t<tr><th scope=col>Dosya</th><th scope=col>Boyut</th><th scope=col>Boyut2</th><th scope=col>Hiz</th><th scope=col>Hiz2</th></tr>\n",
       "\t<tr><th scope=col>&lt;chr&gt;</th><th scope=col>&lt;dbl&gt;</th><th scope=col>&lt;dbl&gt;</th><th scope=col>&lt;dbl&gt;</th><th scope=col>&lt;dbl&gt;</th></tr>\n",
       "</thead>\n",
       "<tbody>\n",
       "\t<tr><td>economic_calendar.csv     </td><td>   2196012</td><td>  1350477</td><td>   153067963</td><td>   22863115</td></tr>\n",
       "\t<tr><td>economic_variables.csv    </td><td>     43571</td><td>    35492</td><td>     5855328</td><td>     463331</td></tr>\n",
       "\t<tr><td>live_digital_campaigns.csv</td><td>      6255</td><td>     1374</td><td>     1450404</td><td>     394514</td></tr>\n",
       "\t<tr><td>transactions.csv          </td><td>1176731744</td><td>335690392</td><td>204530926360</td><td>10380422008</td></tr>\n",
       "</tbody>\n",
       "</table>\n"
      ],
      "text/latex": [
       "A data.frame: 4 × 5\n",
       "\\begin{tabular}{lllll}\n",
       " Dosya & Boyut & Boyut2 & Hiz & Hiz2\\\\\n",
       " <chr> & <dbl> & <dbl> & <dbl> & <dbl>\\\\\n",
       "\\hline\n",
       "\t economic\\_calendar.csv      &    2196012 &   1350477 &    153067963 &    22863115\\\\\n",
       "\t economic\\_variables.csv     &      43571 &     35492 &      5855328 &      463331\\\\\n",
       "\t live\\_digital\\_campaigns.csv &       6255 &      1374 &      1450404 &      394514\\\\\n",
       "\t transactions.csv           & 1176731744 & 335690392 & 204530926360 & 10380422008\\\\\n",
       "\\end{tabular}\n"
      ],
      "text/markdown": [
       "\n",
       "A data.frame: 4 × 5\n",
       "\n",
       "| Dosya &lt;chr&gt; | Boyut &lt;dbl&gt; | Boyut2 &lt;dbl&gt; | Hiz &lt;dbl&gt; | Hiz2 &lt;dbl&gt; |\n",
       "|---|---|---|---|---|\n",
       "| economic_calendar.csv      |    2196012 |   1350477 |    153067963 |    22863115 |\n",
       "| economic_variables.csv     |      43571 |     35492 |      5855328 |      463331 |\n",
       "| live_digital_campaigns.csv |       6255 |      1374 |      1450404 |      394514 |\n",
       "| transactions.csv           | 1176731744 | 335690392 | 204530926360 | 10380422008 |\n",
       "\n"
      ],
      "text/plain": [
       "  Dosya                      Boyut      Boyut2    Hiz          Hiz2       \n",
       "1 economic_calendar.csv         2196012   1350477    153067963    22863115\n",
       "2 economic_variables.csv          43571     35492      5855328      463331\n",
       "3 live_digital_campaigns.csv       6255      1374      1450404      394514\n",
       "4 transactions.csv           1176731744 335690392 204530926360 10380422008"
      ]
     },
     "metadata": {},
     "output_type": "display_data"
    }
   ],
   "source": [
    "file_infos"
   ]
  }
 ],
 "metadata": {
  "kernelspec": {
   "display_name": "R",
   "language": "R",
   "name": "ir"
  },
  "language_info": {
   "codemirror_mode": "r",
   "file_extension": ".r",
   "mimetype": "text/x-r-source",
   "name": "R",
   "pygments_lexer": "r",
   "version": "4.1.1"
  }
 },
 "nbformat": 4,
 "nbformat_minor": 5
}
